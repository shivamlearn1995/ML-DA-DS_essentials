{
 "cells": [
  {
   "cell_type": "code",
   "execution_count": 2,
   "id": "32fb4aca",
   "metadata": {},
   "outputs": [],
   "source": [
    "import pandas as pd\n",
    "import numpy as np\n",
    "import warnings \n",
    "warnings.filterwarnings('ignore')\n",
    "\n",
    "train_ds =pd.read_csv(\"C:/Users/sh/Pictures/Machine Learning (Codes and Data Files)/Data/sentiment_train\",delimiter=\"\\t\")"
   ]
  },
  {
   "cell_type": "code",
   "execution_count": 3,
   "id": "6d34c952",
   "metadata": {},
   "outputs": [
    {
     "data": {
      "text/plain": [
       "(6918, 2)"
      ]
     },
     "execution_count": 3,
     "metadata": {},
     "output_type": "execute_result"
    }
   ],
   "source": [
    "train_ds.shape"
   ]
  },
  {
   "cell_type": "code",
   "execution_count": 4,
   "id": "24d5e774",
   "metadata": {},
   "outputs": [
    {
     "data": {
      "text/html": [
       "<div>\n",
       "<style scoped>\n",
       "    .dataframe tbody tr th:only-of-type {\n",
       "        vertical-align: middle;\n",
       "    }\n",
       "\n",
       "    .dataframe tbody tr th {\n",
       "        vertical-align: top;\n",
       "    }\n",
       "\n",
       "    .dataframe thead th {\n",
       "        text-align: right;\n",
       "    }\n",
       "</style>\n",
       "<table border=\"1\" class=\"dataframe\">\n",
       "  <thead>\n",
       "    <tr style=\"text-align: right;\">\n",
       "      <th></th>\n",
       "      <th>sentiment</th>\n",
       "      <th>text</th>\n",
       "    </tr>\n",
       "  </thead>\n",
       "  <tbody>\n",
       "    <tr>\n",
       "      <th>0</th>\n",
       "      <td>1</td>\n",
       "      <td>The Da Vinci Code book is just awesome.</td>\n",
       "    </tr>\n",
       "    <tr>\n",
       "      <th>1</th>\n",
       "      <td>1</td>\n",
       "      <td>this was the first clive cussler i've ever rea...</td>\n",
       "    </tr>\n",
       "    <tr>\n",
       "      <th>2</th>\n",
       "      <td>1</td>\n",
       "      <td>i liked the Da Vinci Code a lot.</td>\n",
       "    </tr>\n",
       "    <tr>\n",
       "      <th>3</th>\n",
       "      <td>1</td>\n",
       "      <td>i liked the Da Vinci Code a lot.</td>\n",
       "    </tr>\n",
       "    <tr>\n",
       "      <th>4</th>\n",
       "      <td>1</td>\n",
       "      <td>I liked the Da Vinci Code but it ultimatly did...</td>\n",
       "    </tr>\n",
       "  </tbody>\n",
       "</table>\n",
       "</div>"
      ],
      "text/plain": [
       "   sentiment                                               text\n",
       "0          1            The Da Vinci Code book is just awesome.\n",
       "1          1  this was the first clive cussler i've ever rea...\n",
       "2          1                   i liked the Da Vinci Code a lot.\n",
       "3          1                   i liked the Da Vinci Code a lot.\n",
       "4          1  I liked the Da Vinci Code but it ultimatly did..."
      ]
     },
     "execution_count": 4,
     "metadata": {},
     "output_type": "execute_result"
    }
   ],
   "source": [
    "train_ds.head()"
   ]
  },
  {
   "cell_type": "code",
   "execution_count": 7,
   "id": "c83963f1",
   "metadata": {},
   "outputs": [
    {
     "data": {
      "text/html": [
       "<div>\n",
       "<style scoped>\n",
       "    .dataframe tbody tr th:only-of-type {\n",
       "        vertical-align: middle;\n",
       "    }\n",
       "\n",
       "    .dataframe tbody tr th {\n",
       "        vertical-align: top;\n",
       "    }\n",
       "\n",
       "    .dataframe thead th {\n",
       "        text-align: right;\n",
       "    }\n",
       "</style>\n",
       "<table border=\"1\" class=\"dataframe\">\n",
       "  <thead>\n",
       "    <tr style=\"text-align: right;\">\n",
       "      <th></th>\n",
       "      <th>sentiment</th>\n",
       "      <th>text</th>\n",
       "    </tr>\n",
       "  </thead>\n",
       "  <tbody>\n",
       "    <tr>\n",
       "      <th>0</th>\n",
       "      <td>1</td>\n",
       "      <td>The Da Vinci Code book is just awesome.</td>\n",
       "    </tr>\n",
       "    <tr>\n",
       "      <th>1</th>\n",
       "      <td>1</td>\n",
       "      <td>this was the first clive cussler i've ever read, but even books like Relic, and Da Vinci code were more plausible than this.</td>\n",
       "    </tr>\n",
       "    <tr>\n",
       "      <th>2</th>\n",
       "      <td>1</td>\n",
       "      <td>i liked the Da Vinci Code a lot.</td>\n",
       "    </tr>\n",
       "    <tr>\n",
       "      <th>3</th>\n",
       "      <td>1</td>\n",
       "      <td>i liked the Da Vinci Code a lot.</td>\n",
       "    </tr>\n",
       "    <tr>\n",
       "      <th>4</th>\n",
       "      <td>1</td>\n",
       "      <td>I liked the Da Vinci Code but it ultimatly didn't seem to hold it's own.</td>\n",
       "    </tr>\n",
       "  </tbody>\n",
       "</table>\n",
       "</div>"
      ],
      "text/plain": [
       "   sentiment  \\\n",
       "0          1   \n",
       "1          1   \n",
       "2          1   \n",
       "3          1   \n",
       "4          1   \n",
       "\n",
       "                                                                                                                           text  \n",
       "0                                                                                       The Da Vinci Code book is just awesome.  \n",
       "1  this was the first clive cussler i've ever read, but even books like Relic, and Da Vinci code were more plausible than this.  \n",
       "2                                                                                              i liked the Da Vinci Code a lot.  \n",
       "3                                                                                              i liked the Da Vinci Code a lot.  \n",
       "4                                                      I liked the Da Vinci Code but it ultimatly didn't seem to hold it's own.  "
      ]
     },
     "execution_count": 7,
     "metadata": {},
     "output_type": "execute_result"
    }
   ],
   "source": [
    "pd.set_option('max_colwidth',800)\n",
    "train_ds[train_ds.sentiment==1][0:5]"
   ]
  },
  {
   "cell_type": "code",
   "execution_count": 8,
   "id": "ea399119",
   "metadata": {},
   "outputs": [
    {
     "data": {
      "text/html": [
       "<div>\n",
       "<style scoped>\n",
       "    .dataframe tbody tr th:only-of-type {\n",
       "        vertical-align: middle;\n",
       "    }\n",
       "\n",
       "    .dataframe tbody tr th {\n",
       "        vertical-align: top;\n",
       "    }\n",
       "\n",
       "    .dataframe thead th {\n",
       "        text-align: right;\n",
       "    }\n",
       "</style>\n",
       "<table border=\"1\" class=\"dataframe\">\n",
       "  <thead>\n",
       "    <tr style=\"text-align: right;\">\n",
       "      <th></th>\n",
       "      <th>sentiment</th>\n",
       "      <th>text</th>\n",
       "    </tr>\n",
       "  </thead>\n",
       "  <tbody>\n",
       "    <tr>\n",
       "      <th>3943</th>\n",
       "      <td>0</td>\n",
       "      <td>da vinci code was a terrible movie.</td>\n",
       "    </tr>\n",
       "    <tr>\n",
       "      <th>3944</th>\n",
       "      <td>0</td>\n",
       "      <td>Then again, the Da Vinci code is super shitty movie, and it made like 700 million.</td>\n",
       "    </tr>\n",
       "    <tr>\n",
       "      <th>3945</th>\n",
       "      <td>0</td>\n",
       "      <td>The Da Vinci Code comes out tomorrow, which sucks.</td>\n",
       "    </tr>\n",
       "    <tr>\n",
       "      <th>3946</th>\n",
       "      <td>0</td>\n",
       "      <td>i thought the da vinci code movie was really boring.</td>\n",
       "    </tr>\n",
       "    <tr>\n",
       "      <th>3947</th>\n",
       "      <td>0</td>\n",
       "      <td>God, Yahoo Games has this truly-awful looking Da Vinci Code-themed skin on it's chessboard right now.</td>\n",
       "    </tr>\n",
       "  </tbody>\n",
       "</table>\n",
       "</div>"
      ],
      "text/plain": [
       "      sentiment  \\\n",
       "3943          0   \n",
       "3944          0   \n",
       "3945          0   \n",
       "3946          0   \n",
       "3947          0   \n",
       "\n",
       "                                                                                                       text  \n",
       "3943                                                                    da vinci code was a terrible movie.  \n",
       "3944                     Then again, the Da Vinci code is super shitty movie, and it made like 700 million.  \n",
       "3945                                                     The Da Vinci Code comes out tomorrow, which sucks.  \n",
       "3946                                                   i thought the da vinci code movie was really boring.  \n",
       "3947  God, Yahoo Games has this truly-awful looking Da Vinci Code-themed skin on it's chessboard right now.  "
      ]
     },
     "execution_count": 8,
     "metadata": {},
     "output_type": "execute_result"
    }
   ],
   "source": [
    "train_ds[train_ds.sentiment==0].head()"
   ]
  },
  {
   "cell_type": "markdown",
   "id": "b382751a",
   "metadata": {},
   "source": [
    "# EDA"
   ]
  },
  {
   "cell_type": "code",
   "execution_count": 9,
   "id": "4c86b406",
   "metadata": {},
   "outputs": [
    {
     "name": "stdout",
     "output_type": "stream",
     "text": [
      "<class 'pandas.core.frame.DataFrame'>\n",
      "RangeIndex: 6918 entries, 0 to 6917\n",
      "Data columns (total 2 columns):\n",
      " #   Column     Non-Null Count  Dtype \n",
      "---  ------     --------------  ----- \n",
      " 0   sentiment  6918 non-null   int64 \n",
      " 1   text       6918 non-null   object\n",
      "dtypes: int64(1), object(1)\n",
      "memory usage: 108.2+ KB\n"
     ]
    }
   ],
   "source": [
    "train_ds.info()"
   ]
  },
  {
   "cell_type": "code",
   "execution_count": 10,
   "id": "58b3d023",
   "metadata": {},
   "outputs": [],
   "source": [
    "import matplotlib.pyplot as plt\n",
    "import seaborn as sn\n",
    "%matplotlib inline"
   ]
  },
  {
   "cell_type": "code",
   "execution_count": 12,
   "id": "a4a4913b",
   "metadata": {},
   "outputs": [
    {
     "data": {
      "image/png": "[encoded data removed]",
      "text/plain": [
       "<Figure size 432x360 with 1 Axes>"
      ]
     },
     "metadata": {
      "needs_background": "light"
     },
     "output_type": "display_data"
    }
   ],
   "source": [
    "plt.figure(figsize=(6,5))\n",
    "\n",
    "#create count plot\n",
    "ax=sn.countplot(x='sentiment',data=train_ds)\n",
    "\n",
    "#Annotate\n",
    "\n",
    "for p in ax.patches:\n",
    "    ax.annotate(p.get_height(),(p.get_x()+0.1,p.get_height()+50))"
   ]
  },
  {
   "cell_type": "markdown",
   "id": "e2525cd5",
   "metadata": {},
   "source": [
    "# Text Pre-processing"
   ]
  },
  {
   "cell_type": "markdown",
   "id": "0a322738",
   "metadata": {},
   "source": [
    "Creating count vectors for sentiment_train Dataset"
   ]
  },
  {
   "cell_type": "code",
   "execution_count": 16,
   "id": "fbb69869",
   "metadata": {},
   "outputs": [
    {
     "name": "stdout",
     "output_type": "stream",
     "text": [
      "Total number of features : 2132\n"
     ]
    }
   ],
   "source": [
    "from sklearn.feature_extraction.text import CountVectorizer\n",
    "#Initialize the CountVectorizer\n",
    "count_vectorizer=CountVectorizer()\n",
    "#create the dictionary from the corpus\n",
    "feature_vector=count_vectorizer.fit(train_ds.text)\n",
    "#get the feature names\n",
    "features=feature_vector.get_feature_names()\n",
    "features\n",
    "print(\"Total number of features :\",len(features))"
   ]
  },
  {
   "cell_type": "code",
   "execution_count": 17,
   "id": "3900a5b1",
   "metadata": {},
   "outputs": [
    {
     "data": {
      "text/plain": [
       "['keep',\n",
       " 'picnic',\n",
       " 'dakota',\n",
       " 'gn',\n",
       " 'didn',\n",
       " 'she',\n",
       " 'fucking',\n",
       " 'hoffman',\n",
       " 'jack',\n",
       " 'they']"
      ]
     },
     "execution_count": 17,
     "metadata": {},
     "output_type": "execute_result"
    }
   ],
   "source": [
    "import random\n",
    "random.sample(features,10)"
   ]
  },
  {
   "cell_type": "code",
   "execution_count": 18,
   "id": "e76e9e3b",
   "metadata": {},
   "outputs": [
    {
     "data": {
      "text/plain": [
       "scipy.sparse.csr.csr_matrix"
      ]
     },
     "execution_count": 18,
     "metadata": {},
     "output_type": "execute_result"
    }
   ],
   "source": [
    "train_ds_features=count_vectorizer.transform(train_ds.text)\n",
    "type(train_ds_features)"
   ]
  },
  {
   "cell_type": "code",
   "execution_count": 19,
   "id": "45e44ccb",
   "metadata": {},
   "outputs": [
    {
     "data": {
      "text/plain": [
       "(6918, 2132)"
      ]
     },
     "execution_count": 19,
     "metadata": {},
     "output_type": "execute_result"
    }
   ],
   "source": [
    "train_ds_features.shape"
   ]
  },
  {
   "cell_type": "code",
   "execution_count": 21,
   "id": "f0afd2ce",
   "metadata": {},
   "outputs": [
    {
     "data": {
      "text/plain": [
       "65398"
      ]
     },
     "execution_count": 21,
     "metadata": {},
     "output_type": "execute_result"
    }
   ],
   "source": [
    "#Number of actual non-zeros values\n",
    "train_ds_features.getnnz()"
   ]
  },
  {
   "cell_type": "code",
   "execution_count": 24,
   "id": "e483c645",
   "metadata": {},
   "outputs": [
    {
     "name": "stdout",
     "output_type": "stream",
     "text": [
      "Density of the matrix:  0.4434010415225908\n"
     ]
    }
   ],
   "source": [
    "print(\"Density of the matrix: \",train_ds_features.getnnz()*100/(train_ds_features.shape[0]*train_ds_features.shape[1]))"
   ]
  },
  {
   "cell_type": "markdown",
   "id": "029458e8",
   "metadata": {},
   "source": [
    "The matrix has less than 1% non-zero values, that is more than 99% values are zero values."
   ]
  },
  {
   "cell_type": "markdown",
   "id": "110d9cb8",
   "metadata": {},
   "source": [
    "# Displaying document vectors. "
   ]
  },
  {
   "cell_type": "markdown",
   "id": "cb55975c",
   "metadata": {},
   "source": [
    "to visualize the count vectors, we will convert this matrix into DataFrame and set the column names to the actual feature names.\n",
    "\n",
    "The following codes are for displaying count vectors:-"
   ]
  },
  {
   "cell_type": "code",
   "execution_count": 26,
   "id": "7d349a79",
   "metadata": {},
   "outputs": [],
   "source": [
    "#converting the matrix into a dataframe\n",
    "train_ds_df=pd.DataFrame(train_ds_features.todense())\n",
    "\n",
    "#setting the columns names to the feature names i.e. words\n",
    "train_ds_df.columns=features"
   ]
  },
  {
   "cell_type": "code",
   "execution_count": 28,
   "id": "f7ab88e1",
   "metadata": {},
   "outputs": [
    {
     "data": {
      "text/html": [
       "<div>\n",
       "<style scoped>\n",
       "    .dataframe tbody tr th:only-of-type {\n",
       "        vertical-align: middle;\n",
       "    }\n",
       "\n",
       "    .dataframe tbody tr th {\n",
       "        vertical-align: top;\n",
       "    }\n",
       "\n",
       "    .dataframe thead th {\n",
       "        text-align: right;\n",
       "    }\n",
       "</style>\n",
       "<table border=\"1\" class=\"dataframe\">\n",
       "  <thead>\n",
       "    <tr style=\"text-align: right;\">\n",
       "      <th></th>\n",
       "      <th>sentiment</th>\n",
       "      <th>text</th>\n",
       "    </tr>\n",
       "  </thead>\n",
       "  <tbody>\n",
       "    <tr>\n",
       "      <th>0</th>\n",
       "      <td>1</td>\n",
       "      <td>The Da Vinci Code book is just awesome.</td>\n",
       "    </tr>\n",
       "  </tbody>\n",
       "</table>\n",
       "</div>"
      ],
      "text/plain": [
       "   sentiment                                     text\n",
       "0          1  The Da Vinci Code book is just awesome."
      ]
     },
     "execution_count": 28,
     "metadata": {},
     "output_type": "execute_result"
    }
   ],
   "source": [
    "train_ds[0:1]"
   ]
  },
  {
   "cell_type": "code",
   "execution_count": 29,
   "id": "c6cba283",
   "metadata": {},
   "outputs": [
    {
     "data": {
      "text/html": [
       "<div>\n",
       "<style scoped>\n",
       "    .dataframe tbody tr th:only-of-type {\n",
       "        vertical-align: middle;\n",
       "    }\n",
       "\n",
       "    .dataframe tbody tr th {\n",
       "        vertical-align: top;\n",
       "    }\n",
       "\n",
       "    .dataframe thead th {\n",
       "        text-align: right;\n",
       "    }\n",
       "</style>\n",
       "<table border=\"1\" class=\"dataframe\">\n",
       "  <thead>\n",
       "    <tr style=\"text-align: right;\">\n",
       "      <th></th>\n",
       "      <th>away</th>\n",
       "      <th>awesome</th>\n",
       "      <th>awesomely</th>\n",
       "      <th>awesomeness</th>\n",
       "      <th>awesomest</th>\n",
       "      <th>awful</th>\n",
       "      <th>awkward</th>\n",
       "    </tr>\n",
       "  </thead>\n",
       "  <tbody>\n",
       "    <tr>\n",
       "      <th>0</th>\n",
       "      <td>0</td>\n",
       "      <td>1</td>\n",
       "      <td>0</td>\n",
       "      <td>0</td>\n",
       "      <td>0</td>\n",
       "      <td>0</td>\n",
       "      <td>0</td>\n",
       "    </tr>\n",
       "  </tbody>\n",
       "</table>\n",
       "</div>"
      ],
      "text/plain": [
       "   away  awesome  awesomely  awesomeness  awesomest  awful  awkward\n",
       "0     0        1          0            0          0      0        0"
      ]
     },
     "execution_count": 29,
     "metadata": {},
     "output_type": "execute_result"
    }
   ],
   "source": [
    "train_ds_df.iloc[0:1,150:157]"
   ]
  },
  {
   "cell_type": "code",
   "execution_count": 30,
   "id": "b5a667ae",
   "metadata": {},
   "outputs": [
    {
     "data": {
      "text/html": [
       "<div>\n",
       "<style scoped>\n",
       "    .dataframe tbody tr th:only-of-type {\n",
       "        vertical-align: middle;\n",
       "    }\n",
       "\n",
       "    .dataframe tbody tr th {\n",
       "        vertical-align: top;\n",
       "    }\n",
       "\n",
       "    .dataframe thead th {\n",
       "        text-align: right;\n",
       "    }\n",
       "</style>\n",
       "<table border=\"1\" class=\"dataframe\">\n",
       "  <thead>\n",
       "    <tr style=\"text-align: right;\">\n",
       "      <th></th>\n",
       "      <th>away</th>\n",
       "      <th>awesome</th>\n",
       "      <th>awesomely</th>\n",
       "      <th>awesomeness</th>\n",
       "      <th>awesomest</th>\n",
       "      <th>awful</th>\n",
       "      <th>awkward</th>\n",
       "    </tr>\n",
       "  </thead>\n",
       "  <tbody>\n",
       "    <tr>\n",
       "      <th>0</th>\n",
       "      <td>0</td>\n",
       "      <td>1</td>\n",
       "      <td>0</td>\n",
       "      <td>0</td>\n",
       "      <td>0</td>\n",
       "      <td>0</td>\n",
       "      <td>0</td>\n",
       "    </tr>\n",
       "  </tbody>\n",
       "</table>\n",
       "</div>"
      ],
      "text/plain": [
       "   away  awesome  awesomely  awesomeness  awesomest  awful  awkward\n",
       "0     0        1          0            0          0      0        0"
      ]
     },
     "execution_count": 30,
     "metadata": {},
     "output_type": "execute_result"
    }
   ],
   "source": [
    "train_ds_df[['away','awesome','awesomely','awesomeness','awesomest','awful','awkward']][0:1]"
   ]
  },
  {
   "cell_type": "markdown",
   "id": "fab7e3ff",
   "metadata": {},
   "source": [
    "# Removing low-frequency words"
   ]
  },
  {
   "cell_type": "code",
   "execution_count": 32,
   "id": "06e9f2fe",
   "metadata": {},
   "outputs": [],
   "source": [
    "#summing up the occurences of features column wise\n",
    "features_counts=np.sum(train_ds_features.toarray(),axis=0)\n",
    "features_count_df=pd.DataFrame(dict(features=features,counts=features_counts))"
   ]
  },
  {
   "cell_type": "code",
   "execution_count": 37,
   "id": "8e89f7ad",
   "metadata": {},
   "outputs": [
    {
     "data": {
      "image/png": "[encoded data removed]",
      "text/plain": [
       "<Figure size 864x360 with 1 Axes>"
      ]
     },
     "metadata": {
      "needs_background": "light"
     },
     "output_type": "display_data"
    }
   ],
   "source": [
    "plt.figure(figsize=(12,5))\n",
    "plt.hist(features_count_df.counts,bins=50,range=(0,2000))\n",
    "plt.xlabel('Frequency of words')\n",
    "plt.ylabel('Density')\n",
    "plt.show()"
   ]
  },
  {
   "cell_type": "code",
   "execution_count": 39,
   "id": "c4d078f9",
   "metadata": {},
   "outputs": [
    {
     "data": {
      "text/plain": [
       "1228"
      ]
     },
     "execution_count": 39,
     "metadata": {},
     "output_type": "execute_result"
    }
   ],
   "source": [
    "len(features_count_df[features_count_df.counts==1])"
   ]
  },
  {
   "cell_type": "code",
   "execution_count": 45,
   "id": "f20f2c40",
   "metadata": {},
   "outputs": [],
   "source": [
    "#Initialize countvectorizer\n",
    "count_vectorizer=CountVectorizer(max_features=1000)\n",
    "#create the dictionary form of corpus\n",
    "feature_vector=count_vectorizer.fit(train_ds.text)\n",
    "#get the feature name\n",
    "features=feature_vector.get_feature_names()\n",
    "#Transform the document into vectors\n",
    "train_ds_features=count_vectorizer.transform(train_ds.text)\n",
    "\n",
    "#Count the frequency of the features\n",
    "features_counts=np.sum(train_ds_features.toarray(),axis=0)\n",
    "\n",
    "feature_counts=pd.DataFrame(dict(features=features,counts=features_counts))"
   ]
  },
  {
   "cell_type": "code",
   "execution_count": 46,
   "id": "139c329d",
   "metadata": {},
   "outputs": [
    {
     "data": {
      "text/html": [
       "<div>\n",
       "<style scoped>\n",
       "    .dataframe tbody tr th:only-of-type {\n",
       "        vertical-align: middle;\n",
       "    }\n",
       "\n",
       "    .dataframe tbody tr th {\n",
       "        vertical-align: top;\n",
       "    }\n",
       "\n",
       "    .dataframe thead th {\n",
       "        text-align: right;\n",
       "    }\n",
       "</style>\n",
       "<table border=\"1\" class=\"dataframe\">\n",
       "  <thead>\n",
       "    <tr style=\"text-align: right;\">\n",
       "      <th></th>\n",
       "      <th>features</th>\n",
       "      <th>counts</th>\n",
       "    </tr>\n",
       "  </thead>\n",
       "  <tbody>\n",
       "    <tr>\n",
       "      <th>866</th>\n",
       "      <td>the</td>\n",
       "      <td>3306</td>\n",
       "    </tr>\n",
       "    <tr>\n",
       "      <th>37</th>\n",
       "      <td>and</td>\n",
       "      <td>2154</td>\n",
       "    </tr>\n",
       "    <tr>\n",
       "      <th>358</th>\n",
       "      <td>harry</td>\n",
       "      <td>2093</td>\n",
       "    </tr>\n",
       "    <tr>\n",
       "      <th>675</th>\n",
       "      <td>potter</td>\n",
       "      <td>2093</td>\n",
       "    </tr>\n",
       "    <tr>\n",
       "      <th>138</th>\n",
       "      <td>code</td>\n",
       "      <td>2002</td>\n",
       "    </tr>\n",
       "    <tr>\n",
       "      <th>934</th>\n",
       "      <td>vinci</td>\n",
       "      <td>2001</td>\n",
       "    </tr>\n",
       "    <tr>\n",
       "      <th>178</th>\n",
       "      <td>da</td>\n",
       "      <td>2001</td>\n",
       "    </tr>\n",
       "    <tr>\n",
       "      <th>528</th>\n",
       "      <td>mountain</td>\n",
       "      <td>2000</td>\n",
       "    </tr>\n",
       "    <tr>\n",
       "      <th>104</th>\n",
       "      <td>brokeback</td>\n",
       "      <td>2000</td>\n",
       "    </tr>\n",
       "    <tr>\n",
       "      <th>488</th>\n",
       "      <td>love</td>\n",
       "      <td>1624</td>\n",
       "    </tr>\n",
       "    <tr>\n",
       "      <th>423</th>\n",
       "      <td>is</td>\n",
       "      <td>1520</td>\n",
       "    </tr>\n",
       "    <tr>\n",
       "      <th>941</th>\n",
       "      <td>was</td>\n",
       "      <td>1176</td>\n",
       "    </tr>\n",
       "    <tr>\n",
       "      <th>60</th>\n",
       "      <td>awesome</td>\n",
       "      <td>1127</td>\n",
       "    </tr>\n",
       "    <tr>\n",
       "      <th>521</th>\n",
       "      <td>mission</td>\n",
       "      <td>1094</td>\n",
       "    </tr>\n",
       "    <tr>\n",
       "      <th>413</th>\n",
       "      <td>impossible</td>\n",
       "      <td>1093</td>\n",
       "    </tr>\n",
       "  </tbody>\n",
       "</table>\n",
       "</div>"
      ],
      "text/plain": [
       "       features  counts\n",
       "866         the    3306\n",
       "37          and    2154\n",
       "358       harry    2093\n",
       "675      potter    2093\n",
       "138        code    2002\n",
       "934       vinci    2001\n",
       "178          da    2001\n",
       "528    mountain    2000\n",
       "104   brokeback    2000\n",
       "488        love    1624\n",
       "423          is    1520\n",
       "941         was    1176\n",
       "60      awesome    1127\n",
       "521     mission    1094\n",
       "413  impossible    1093"
      ]
     },
     "execution_count": 46,
     "metadata": {},
     "output_type": "execute_result"
    }
   ],
   "source": [
    "feature_counts.sort_values('counts',ascending=False)[0:15]"
   ]
  },
  {
   "cell_type": "markdown",
   "id": "26281796",
   "metadata": {},
   "source": [
    "# Removing Stop Words\n",
    "\n",
    "skelarn_feature_extraction.text provides a list of pre-defined stop words in English, which can be used as a inference to remove\n",
    "the stop words from the dictionary, i.e. feature set."
   ]
  },
  {
   "cell_type": "code",
   "execution_count": 47,
   "id": "5e081f3d",
   "metadata": {},
   "outputs": [
    {
     "name": "stdout",
     "output_type": "stream",
     "text": [
      "Few Stop Words : ['must', 'alone', 'three', 'both', 'eight', 'an', 'to', 'she', 'interest', 'see']\n"
     ]
    }
   ],
   "source": [
    "from sklearn.feature_extraction import text\n",
    "my_stop_words=text.ENGLISH_STOP_WORDS\n",
    "\n",
    "#printing first few stop words\n",
    "print(\"Few Stop Words :\",list(my_stop_words)[0:10])"
   ]
  },
  {
   "cell_type": "code",
   "execution_count": 48,
   "id": "9a7d3b01",
   "metadata": {},
   "outputs": [],
   "source": [
    "#Adding custom words to the list of stop words\n",
    "my_stop_words=text.ENGLISH_STOP_WORDS.union(['harry','potter','code','vinci','da','harry','mountain','movie','movies'])"
   ]
  },
  {
   "cell_type": "markdown",
   "id": "0fb5f240",
   "metadata": {},
   "source": [
    "# Creating Count Vectors\n",
    "\n",
    "All vectorizer take a list of stop words as a parameter and remove the stop words while building the dictionary or feature set.\n",
    "And these words will not appear in the count vectors representing the documents. We will create new count vectors by passing\n",
    "the my_stop_words as stop words list."
   ]
  },
  {
   "cell_type": "code",
   "execution_count": 50,
   "id": "8def35f4",
   "metadata": {},
   "outputs": [],
   "source": [
    "#setting stop words list\n",
    "\n",
    "count_vectorizer=CountVectorizer(stop_words=my_stop_words,max_features=1000)\n",
    "\n",
    "create_vector=count_vectorizer.fit(train_ds.text)\n",
    "\n",
    "train_ds_features=count_vectorizer.transform(train_ds.text)\n",
    "\n",
    "features=feature_vector.get_feature_names()\n",
    "\n",
    "features_counts=np.sum(train_ds_features.toarray(),axis=0)\n",
    "\n",
    "feature_count=pd.DataFrame(dict(features=features,count=features_counts))"
   ]
  },
  {
   "cell_type": "markdown",
   "id": "01f09b1a",
   "metadata": {},
   "source": [
    "# Stemming and Lemmatization"
   ]
  },
  {
   "cell_type": "code",
   "execution_count": 55,
   "id": "ec8ed027",
   "metadata": {},
   "outputs": [],
   "source": [
    "from nltk.stem.snowball import PorterStemmer\n",
    "\n",
    "stemmer=PorterStemmer()\n",
    "\n",
    "analyzer=CountVectorizer().build_analyzer()\n",
    "\n",
    "#Custom function for stemming and stop word removal\n",
    "\n",
    "def stemmed_words(doc):   \n",
    "    ### Stemming of words    \n",
    "    stemmed_words = (stemmer.stem(w) for w in analyzer(doc))   \n",
    "    ### Remove the words in stop words list   \n",
    "    non_stop_words = [ word for word in list(set(stemmed_words) - set(my_stop_words)) ]   \n",
    "    return non_stop_words"
   ]
  },
  {
   "cell_type": "code",
   "execution_count": 59,
   "id": "9653ba81",
   "metadata": {},
   "outputs": [
    {
     "data": {
      "text/html": [
       "<div>\n",
       "<style scoped>\n",
       "    .dataframe tbody tr th:only-of-type {\n",
       "        vertical-align: middle;\n",
       "    }\n",
       "\n",
       "    .dataframe tbody tr th {\n",
       "        vertical-align: top;\n",
       "    }\n",
       "\n",
       "    .dataframe thead th {\n",
       "        text-align: right;\n",
       "    }\n",
       "</style>\n",
       "<table border=\"1\" class=\"dataframe\">\n",
       "  <thead>\n",
       "    <tr style=\"text-align: right;\">\n",
       "      <th></th>\n",
       "      <th>features</th>\n",
       "      <th>counts</th>\n",
       "    </tr>\n",
       "  </thead>\n",
       "  <tbody>\n",
       "    <tr>\n",
       "      <th>80</th>\n",
       "      <td>brokeback</td>\n",
       "      <td>1930</td>\n",
       "    </tr>\n",
       "    <tr>\n",
       "      <th>297</th>\n",
       "      <td>harri</td>\n",
       "      <td>1916</td>\n",
       "    </tr>\n",
       "    <tr>\n",
       "      <th>407</th>\n",
       "      <td>love</td>\n",
       "      <td>1837</td>\n",
       "    </tr>\n",
       "    <tr>\n",
       "      <th>803</th>\n",
       "      <td>suck</td>\n",
       "      <td>1378</td>\n",
       "    </tr>\n",
       "    <tr>\n",
       "      <th>922</th>\n",
       "      <td>wa</td>\n",
       "      <td>1142</td>\n",
       "    </tr>\n",
       "    <tr>\n",
       "      <th>43</th>\n",
       "      <td>awesom</td>\n",
       "      <td>1116</td>\n",
       "    </tr>\n",
       "    <tr>\n",
       "      <th>345</th>\n",
       "      <td>imposs</td>\n",
       "      <td>1090</td>\n",
       "    </tr>\n",
       "    <tr>\n",
       "      <th>433</th>\n",
       "      <td>mission</td>\n",
       "      <td>1090</td>\n",
       "    </tr>\n",
       "    <tr>\n",
       "      <th>439</th>\n",
       "      <td>movi</td>\n",
       "      <td>1052</td>\n",
       "    </tr>\n",
       "    <tr>\n",
       "      <th>393</th>\n",
       "      <td>like</td>\n",
       "      <td>823</td>\n",
       "    </tr>\n",
       "    <tr>\n",
       "      <th>299</th>\n",
       "      <td>hate</td>\n",
       "      <td>636</td>\n",
       "    </tr>\n",
       "    <tr>\n",
       "      <th>54</th>\n",
       "      <td>becaus</td>\n",
       "      <td>524</td>\n",
       "    </tr>\n",
       "    <tr>\n",
       "      <th>604</th>\n",
       "      <td>realli</td>\n",
       "      <td>370</td>\n",
       "    </tr>\n",
       "    <tr>\n",
       "      <th>796</th>\n",
       "      <td>stupid</td>\n",
       "      <td>364</td>\n",
       "    </tr>\n",
       "    <tr>\n",
       "      <th>379</th>\n",
       "      <td>know</td>\n",
       "      <td>354</td>\n",
       "    </tr>\n",
       "  </tbody>\n",
       "</table>\n",
       "</div>"
      ],
      "text/plain": [
       "      features  counts\n",
       "80   brokeback    1930\n",
       "297      harri    1916\n",
       "407       love    1837\n",
       "803       suck    1378\n",
       "922         wa    1142\n",
       "43      awesom    1116\n",
       "345     imposs    1090\n",
       "433    mission    1090\n",
       "439       movi    1052\n",
       "393       like     823\n",
       "299       hate     636\n",
       "54      becaus     524\n",
       "604     realli     370\n",
       "796     stupid     364\n",
       "379       know     354"
      ]
     },
     "execution_count": 59,
     "metadata": {},
     "output_type": "execute_result"
    }
   ],
   "source": [
    "count_vectorizer=CountVectorizer(analyzer=stemmed_words,max_features=1000)\n",
    "\n",
    "feature_vector=count_vectorizer.fit(train_ds.text)\n",
    "\n",
    "train_ds_features=count_vectorizer.transform(train_ds.text)\n",
    "features=feature_vector.get_feature_names()\n",
    "features_counts=np.sum(train_ds_features.toarray(),axis=0)\n",
    "feature_counts=pd.DataFrame(dict(features=features,counts=features_counts))\n",
    "feature_counts.sort_values(\"counts\",ascending=False)[0:15]"
   ]
  },
  {
   "cell_type": "markdown",
   "id": "ed3c6163",
   "metadata": {},
   "source": [
    "# Distribution of words Across Different Sentiment"
   ]
  },
  {
   "cell_type": "code",
   "execution_count": 60,
   "id": "0971a373",
   "metadata": {},
   "outputs": [],
   "source": [
    "#convert the document vector matrix into dataframe\n",
    "train_ds_df=pd.DataFrame(train_ds_features.todense())\n",
    "\n",
    "#Assign the features names to the column\n",
    "\n",
    "train_ds_df.columns=features\n",
    "\n",
    "#Assign the sentiment labels to the train_ds\n",
    "\n",
    "train_ds_df['sentiment']=train_ds.sentiment"
   ]
  },
  {
   "cell_type": "code",
   "execution_count": 61,
   "id": "ce9d4e8f",
   "metadata": {},
   "outputs": [
    {
     "data": {
      "text/plain": [
       "<AxesSubplot:xlabel='sentiment', ylabel='awesom'>"
      ]
     },
     "execution_count": 61,
     "metadata": {},
     "output_type": "execute_result"
    },
    {
     "data": {
      "image/png": "[encoded data removed]",
      "text/plain": [
       "<Figure size 432x288 with 1 Axes>"
      ]
     },
     "metadata": {
      "needs_background": "light"
     },
     "output_type": "display_data"
    }
   ],
   "source": [
    "sn.barplot(x='sentiment',y='awesom',data=train_ds_df,estimator=sum)"
   ]
  },
  {
   "cell_type": "code",
   "execution_count": 62,
   "id": "721c5a1b",
   "metadata": {},
   "outputs": [
    {
     "data": {
      "text/plain": [
       "<AxesSubplot:xlabel='sentiment', ylabel='realli'>"
      ]
     },
     "execution_count": 62,
     "metadata": {},
     "output_type": "execute_result"
    },
    {
     "data": {
      "image/png": "[encoded data removed]",
      "text/plain": [
       "<Figure size 432x288 with 1 Axes>"
      ]
     },
     "metadata": {
      "needs_background": "light"
     },
     "output_type": "display_data"
    }
   ],
   "source": [
    "sn.barplot(x='sentiment',y='realli',data=train_ds_df,estimator=sum)"
   ]
  },
  {
   "cell_type": "markdown",
   "id": "2a30b1c1",
   "metadata": {},
   "source": [
    "The word realli(stemmed word for really) occurs almost equally across positive and negative sentiments."
   ]
  },
  {
   "cell_type": "code",
   "execution_count": 63,
   "id": "f2aa580b",
   "metadata": {},
   "outputs": [
    {
     "data": {
      "text/plain": [
       "<AxesSubplot:xlabel='sentiment', ylabel='hate'>"
      ]
     },
     "execution_count": 63,
     "metadata": {},
     "output_type": "execute_result"
    },
    {
     "data": {
      "image/png": "[encoded data removed]",
      "text/plain": [
       "<Figure size 432x288 with 1 Axes>"
      ]
     },
     "metadata": {
      "needs_background": "light"
     },
     "output_type": "display_data"
    }
   ],
   "source": [
    "sn.barplot(x='sentiment',y='hate',data=train_ds_df,estimator=sum)"
   ]
  },
  {
   "cell_type": "markdown",
   "id": "f90af7e3",
   "metadata": {},
   "source": [
    "# Naive-Bayes Model for sentiment classification"
   ]
  },
  {
   "cell_type": "markdown",
   "id": "a443a24b",
   "metadata": {},
   "source": [
    "# Split the data set into training and test data sets"
   ]
  },
  {
   "cell_type": "code",
   "execution_count": 64,
   "id": "a13c0ac5",
   "metadata": {},
   "outputs": [],
   "source": [
    "from sklearn.model_selection import train_test_split\n",
    "\n",
    "train_x,test_x,train_y,test_y=train_test_split(train_ds_features,train_ds.sentiment,test_size=0.3,random_state=42)"
   ]
  },
  {
   "cell_type": "markdown",
   "id": "c9b7c569",
   "metadata": {},
   "source": [
    "# Build Naive-Bayes Model"
   ]
  },
  {
   "cell_type": "code",
   "execution_count": 65,
   "id": "e01423fc",
   "metadata": {},
   "outputs": [
    {
     "data": {
      "text/plain": [
       "BernoulliNB()"
      ]
     },
     "execution_count": 65,
     "metadata": {},
     "output_type": "execute_result"
    }
   ],
   "source": [
    "from sklearn.naive_bayes import BernoulliNB\n",
    "\n",
    "nb_clf=BernoulliNB()\n",
    "\n",
    "nb_clf.fit(train_x.toarray(),train_y)"
   ]
  },
  {
   "cell_type": "markdown",
   "id": "d23888d1",
   "metadata": {},
   "source": [
    "# Make predictions on Test Case"
   ]
  },
  {
   "cell_type": "code",
   "execution_count": 66,
   "id": "e41be046",
   "metadata": {},
   "outputs": [],
   "source": [
    "test_ds_predicted=nb_clf.predict(test_x.toarray())"
   ]
  },
  {
   "cell_type": "code",
   "execution_count": 68,
   "id": "105d1b00",
   "metadata": {},
   "outputs": [
    {
     "data": {
      "text/plain": [
       "array([1, 1, 1, ..., 0, 1, 1], dtype=int64)"
      ]
     },
     "execution_count": 68,
     "metadata": {},
     "output_type": "execute_result"
    }
   ],
   "source": [
    "test_ds_predicted"
   ]
  },
  {
   "cell_type": "markdown",
   "id": "8b2ed5b2",
   "metadata": {},
   "source": [
    "# Finding the Model Accuracy"
   ]
  },
  {
   "cell_type": "code",
   "execution_count": 69,
   "id": "b1b4d8ed",
   "metadata": {},
   "outputs": [
    {
     "name": "stdout",
     "output_type": "stream",
     "text": [
      "              precision    recall  f1-score   support\n",
      "\n",
      "           0       0.98      0.97      0.98       873\n",
      "           1       0.98      0.99      0.98      1203\n",
      "\n",
      "    accuracy                           0.98      2076\n",
      "   macro avg       0.98      0.98      0.98      2076\n",
      "weighted avg       0.98      0.98      0.98      2076\n",
      "\n"
     ]
    }
   ],
   "source": [
    "from sklearn import metrics \n",
    "print(metrics.classification_report(test_y,test_ds_predicted))"
   ]
  },
  {
   "cell_type": "markdown",
   "id": "55df955c",
   "metadata": {},
   "source": [
    "Model is classifying with high accuracy. Both average precision and recall us about 98% for identifying positive and negative \n",
    "sentiment documents."
   ]
  },
  {
   "cell_type": "code",
   "execution_count": 70,
   "id": "6d08a22f",
   "metadata": {},
   "outputs": [
    {
     "data": {
      "text/plain": [
       "<AxesSubplot:>"
      ]
     },
     "execution_count": 70,
     "metadata": {},
     "output_type": "execute_result"
    },
    {
     "data": {
      "image/png": "[encoded data removed]",
      "text/plain": [
       "<Figure size 432x288 with 2 Axes>"
      ]
     },
     "metadata": {
      "needs_background": "light"
     },
     "output_type": "display_data"
    }
   ],
   "source": [
    "cm=metrics.confusion_matrix(test_y,test_ds_predicted)\n",
    "sn.heatmap(cm,annot=True,fmt=' .2f')"
   ]
  },
  {
   "cell_type": "markdown",
   "id": "d8914de4",
   "metadata": {},
   "source": [
    "Model prediction is that, there are only 14 positive sentiment classified wrongly as negative documents(False Negative) and \n",
    "there are only 28 negative sentiment documents classified wrongly as positive sentiment documents (False Positives)."
   ]
  },
  {
   "cell_type": "code",
   "execution_count": null,
   "id": "0bb94b19",
   "metadata": {},
   "outputs": [],
   "source": []
  }
 ],
 "metadata": {
  "kernelspec": {
   "display_name": "Python 3 (ipykernel)",
   "language": "python",
   "name": "python3"
  },
  "language_info": {
   "codemirror_mode": {
    "name": "ipython",
    "version": 3
   },
   "file_extension": ".py",
   "mimetype": "text/x-python",
   "name": "python",
   "nbconvert_exporter": "python",
   "pygments_lexer": "ipython3",
   "version": "3.9.7"
  }
 },
 "nbformat": 4,
 "nbformat_minor": 5
}

{
 "cells": [
  {
   "cell_type": "markdown",
   "id": "c7305d82",
   "metadata": {},
   "source": [
    "# India-China Trade Relation Analysis(EDA)"
   ]
  },
  {
   "cell_type": "code",
   "execution_count": 47,
   "id": "d38c3d2a",
   "metadata": {},
   "outputs": [],
   "source": [
    "#importing essential modules \n",
    "import pandas as pd\n",
    "import numpy as np\n",
    "import matplotlib.pyplot as plt\n",
    "%matplotlib inline \n",
    "import seaborn as sns"
   ]
  },
  {
   "cell_type": "code",
   "execution_count": 2,
   "id": "5564d3f1",
   "metadata": {},
   "outputs": [],
   "source": [
    "data=pd.read_csv(\"C:\\DataScience\\Datasets\\exports and imports of india(1997-2022) - exports and imports.csv\")"
   ]
  },
  {
   "cell_type": "markdown",
   "id": "155c5181",
   "metadata": {},
   "source": [
    "# Handling and Organizing data"
   ]
  },
  {
   "cell_type": "code",
   "execution_count": 3,
   "id": "0b07e7be",
   "metadata": {},
   "outputs": [
    {
     "data": {
      "text/plain": [
       "(5767, 7)"
      ]
     },
     "execution_count": 3,
     "metadata": {},
     "output_type": "execute_result"
    }
   ],
   "source": [
    "data.shape"
   ]
  },
  {
   "cell_type": "code",
   "execution_count": 4,
   "id": "49efbfce",
   "metadata": {},
   "outputs": [
    {
     "data": {
      "text/plain": [
       "Index(['Country', 'Export', 'Import', 'Total Trade', 'Trade Balance',\n",
       "       'Year(start)', 'Year(end)'],\n",
       "      dtype='object')"
      ]
     },
     "execution_count": 4,
     "metadata": {},
     "output_type": "execute_result"
    }
   ],
   "source": [
    "data.columns"
   ]
  },
  {
   "cell_type": "code",
   "execution_count": 5,
   "id": "8aaf67b7",
   "metadata": {},
   "outputs": [
    {
     "data": {
      "text/plain": [
       "Country          object\n",
       "Export           object\n",
       "Import           object\n",
       "Total Trade      object\n",
       "Trade Balance    object\n",
       "Year(start)       int64\n",
       "Year(end)         int64\n",
       "dtype: object"
      ]
     },
     "execution_count": 5,
     "metadata": {},
     "output_type": "execute_result"
    }
   ],
   "source": [
    "data.dtypes"
   ]
  },
  {
   "cell_type": "code",
   "execution_count": 6,
   "id": "d5bbaefe",
   "metadata": {},
   "outputs": [
    {
     "data": {
      "text/plain": [
       "Year(start)    int64\n",
       "Year(end)      int64\n",
       "dtype: object"
      ]
     },
     "execution_count": 6,
     "metadata": {},
     "output_type": "execute_result"
    }
   ],
   "source": [
    "#Numerical data\n",
    "x=data.dtypes\n",
    "x[x!=object]"
   ]
  },
  {
   "cell_type": "code",
   "execution_count": 7,
   "id": "03a5f1de",
   "metadata": {},
   "outputs": [
    {
     "data": {
      "text/plain": [
       "Country          object\n",
       "Export           object\n",
       "Import           object\n",
       "Total Trade      object\n",
       "Trade Balance    object\n",
       "dtype: object"
      ]
     },
     "execution_count": 7,
     "metadata": {},
     "output_type": "execute_result"
    }
   ],
   "source": [
    "#Categorical data\n",
    "x[x==object]"
   ]
  },
  {
   "cell_type": "code",
   "execution_count": 8,
   "id": "6f9b3f11",
   "metadata": {},
   "outputs": [
    {
     "data": {
      "text/html": [
       "<div>\n",
       "<style scoped>\n",
       "    .dataframe tbody tr th:only-of-type {\n",
       "        vertical-align: middle;\n",
       "    }\n",
       "\n",
       "    .dataframe tbody tr th {\n",
       "        vertical-align: top;\n",
       "    }\n",
       "\n",
       "    .dataframe thead th {\n",
       "        text-align: right;\n",
       "    }\n",
       "</style>\n",
       "<table border=\"1\" class=\"dataframe\">\n",
       "  <thead>\n",
       "    <tr style=\"text-align: right;\">\n",
       "      <th></th>\n",
       "      <th>Country</th>\n",
       "      <th>Export</th>\n",
       "      <th>Import</th>\n",
       "      <th>Total Trade</th>\n",
       "      <th>Trade Balance</th>\n",
       "      <th>Year(start)</th>\n",
       "      <th>Year(end)</th>\n",
       "    </tr>\n",
       "  </thead>\n",
       "  <tbody>\n",
       "    <tr>\n",
       "      <th>0</th>\n",
       "      <td>AFGHANISTAN</td>\n",
       "      <td>21.25</td>\n",
       "      <td>10.7</td>\n",
       "      <td>31.95</td>\n",
       "      <td>10.55</td>\n",
       "      <td>97</td>\n",
       "      <td>98</td>\n",
       "    </tr>\n",
       "    <tr>\n",
       "      <th>1</th>\n",
       "      <td>AFGHANISTAN</td>\n",
       "      <td>12.81</td>\n",
       "      <td>28.14</td>\n",
       "      <td>40.95</td>\n",
       "      <td>-15.33</td>\n",
       "      <td>98</td>\n",
       "      <td>99</td>\n",
       "    </tr>\n",
       "    <tr>\n",
       "      <th>2</th>\n",
       "      <td>AFGHANISTAN</td>\n",
       "      <td>33.2</td>\n",
       "      <td>21.06</td>\n",
       "      <td>54.26</td>\n",
       "      <td>12.15</td>\n",
       "      <td>99</td>\n",
       "      <td>2000</td>\n",
       "    </tr>\n",
       "    <tr>\n",
       "      <th>3</th>\n",
       "      <td>AFGHANISTAN</td>\n",
       "      <td>25.86</td>\n",
       "      <td>26.59</td>\n",
       "      <td>52.45</td>\n",
       "      <td>-0.73</td>\n",
       "      <td>2000</td>\n",
       "      <td>2001</td>\n",
       "    </tr>\n",
       "    <tr>\n",
       "      <th>4</th>\n",
       "      <td>AFGHANISTAN</td>\n",
       "      <td>24.37</td>\n",
       "      <td>17.52</td>\n",
       "      <td>41.89</td>\n",
       "      <td>6.85</td>\n",
       "      <td>2001</td>\n",
       "      <td>2002</td>\n",
       "    </tr>\n",
       "  </tbody>\n",
       "</table>\n",
       "</div>"
      ],
      "text/plain": [
       "       Country Export Import Total Trade Trade Balance  Year(start)  Year(end)\n",
       "0  AFGHANISTAN  21.25   10.7       31.95         10.55           97         98\n",
       "1  AFGHANISTAN  12.81  28.14       40.95        -15.33           98         99\n",
       "2  AFGHANISTAN   33.2  21.06       54.26         12.15           99       2000\n",
       "3  AFGHANISTAN  25.86  26.59       52.45         -0.73         2000       2001\n",
       "4  AFGHANISTAN  24.37  17.52       41.89          6.85         2001       2002"
      ]
     },
     "execution_count": 8,
     "metadata": {},
     "output_type": "execute_result"
    }
   ],
   "source": [
    "data.head()"
   ]
  },
  {
   "cell_type": "code",
   "execution_count": 9,
   "id": "877c3ef4",
   "metadata": {},
   "outputs": [
    {
     "data": {
      "text/plain": [
       "Country            0\n",
       "Export             8\n",
       "Import           532\n",
       "Total Trade      566\n",
       "Trade Balance    566\n",
       "Year(start)        0\n",
       "Year(end)          0\n",
       "dtype: int64"
      ]
     },
     "execution_count": 9,
     "metadata": {},
     "output_type": "execute_result"
    }
   ],
   "source": [
    "data.isnull().sum()"
   ]
  },
  {
   "cell_type": "code",
   "execution_count": 10,
   "id": "17ba1102",
   "metadata": {},
   "outputs": [
    {
     "data": {
      "text/plain": [
       "Country          5767\n",
       "Export           5759\n",
       "Import           5235\n",
       "Total Trade      5201\n",
       "Trade Balance    5201\n",
       "Year(start)      5767\n",
       "Year(end)        5767\n",
       "dtype: int64"
      ]
     },
     "execution_count": 10,
     "metadata": {},
     "output_type": "execute_result"
    }
   ],
   "source": [
    "data.notnull().sum()"
   ]
  },
  {
   "cell_type": "code",
   "execution_count": 11,
   "id": "020cc8d2",
   "metadata": {},
   "outputs": [
    {
     "data": {
      "text/plain": [
       "count     5759\n",
       "unique    4291\n",
       "top          0\n",
       "freq        63\n",
       "Name: Export, dtype: object"
      ]
     },
     "execution_count": 11,
     "metadata": {},
     "output_type": "execute_result"
    }
   ],
   "source": [
    "data.Export.describe()"
   ]
  },
  {
   "cell_type": "code",
   "execution_count": 12,
   "id": "a06ae8dc",
   "metadata": {},
   "outputs": [
    {
     "data": {
      "text/plain": [
       "count     5235\n",
       "unique    3595\n",
       "top          0\n",
       "freq       142\n",
       "Name: Import, dtype: object"
      ]
     },
     "execution_count": 12,
     "metadata": {},
     "output_type": "execute_result"
    }
   ],
   "source": [
    "data.Import.describe()"
   ]
  },
  {
   "cell_type": "code",
   "execution_count": 13,
   "id": "206dda09",
   "metadata": {},
   "outputs": [
    {
     "data": {
      "text/html": [
       "<div>\n",
       "<style scoped>\n",
       "    .dataframe tbody tr th:only-of-type {\n",
       "        vertical-align: middle;\n",
       "    }\n",
       "\n",
       "    .dataframe tbody tr th {\n",
       "        vertical-align: top;\n",
       "    }\n",
       "\n",
       "    .dataframe thead th {\n",
       "        text-align: right;\n",
       "    }\n",
       "</style>\n",
       "<table border=\"1\" class=\"dataframe\">\n",
       "  <thead>\n",
       "    <tr style=\"text-align: right;\">\n",
       "      <th></th>\n",
       "      <th>Country</th>\n",
       "      <th>Export</th>\n",
       "      <th>Import</th>\n",
       "      <th>Total Trade</th>\n",
       "      <th>Trade Balance</th>\n",
       "      <th>Year(start)</th>\n",
       "      <th>Year(end)</th>\n",
       "    </tr>\n",
       "  </thead>\n",
       "  <tbody>\n",
       "    <tr>\n",
       "      <th>0</th>\n",
       "      <td>AFGHANISTAN</td>\n",
       "      <td>21.25</td>\n",
       "      <td>10.7</td>\n",
       "      <td>31.95</td>\n",
       "      <td>10.55</td>\n",
       "      <td>97</td>\n",
       "      <td>98</td>\n",
       "    </tr>\n",
       "    <tr>\n",
       "      <th>1</th>\n",
       "      <td>AFGHANISTAN</td>\n",
       "      <td>12.81</td>\n",
       "      <td>28.14</td>\n",
       "      <td>40.95</td>\n",
       "      <td>-15.33</td>\n",
       "      <td>98</td>\n",
       "      <td>99</td>\n",
       "    </tr>\n",
       "    <tr>\n",
       "      <th>2</th>\n",
       "      <td>AFGHANISTAN</td>\n",
       "      <td>33.2</td>\n",
       "      <td>21.06</td>\n",
       "      <td>54.26</td>\n",
       "      <td>12.15</td>\n",
       "      <td>99</td>\n",
       "      <td>2000</td>\n",
       "    </tr>\n",
       "    <tr>\n",
       "      <th>3</th>\n",
       "      <td>AFGHANISTAN</td>\n",
       "      <td>25.86</td>\n",
       "      <td>26.59</td>\n",
       "      <td>52.45</td>\n",
       "      <td>-0.73</td>\n",
       "      <td>2000</td>\n",
       "      <td>2001</td>\n",
       "    </tr>\n",
       "    <tr>\n",
       "      <th>4</th>\n",
       "      <td>AFGHANISTAN</td>\n",
       "      <td>24.37</td>\n",
       "      <td>17.52</td>\n",
       "      <td>41.89</td>\n",
       "      <td>6.85</td>\n",
       "      <td>2001</td>\n",
       "      <td>2002</td>\n",
       "    </tr>\n",
       "    <tr>\n",
       "      <th>...</th>\n",
       "      <td>...</td>\n",
       "      <td>...</td>\n",
       "      <td>...</td>\n",
       "      <td>...</td>\n",
       "      <td>...</td>\n",
       "      <td>...</td>\n",
       "      <td>...</td>\n",
       "    </tr>\n",
       "    <tr>\n",
       "      <th>5762</th>\n",
       "      <td>ZIMBABWE</td>\n",
       "      <td>163.54</td>\n",
       "      <td>62.2</td>\n",
       "      <td>225.74</td>\n",
       "      <td>101.34</td>\n",
       "      <td>2017</td>\n",
       "      <td>2018</td>\n",
       "    </tr>\n",
       "    <tr>\n",
       "      <th>5763</th>\n",
       "      <td>ZIMBABWE</td>\n",
       "      <td>181.72</td>\n",
       "      <td>7.79</td>\n",
       "      <td>189.51</td>\n",
       "      <td>173.93</td>\n",
       "      <td>2018</td>\n",
       "      <td>2019</td>\n",
       "    </tr>\n",
       "    <tr>\n",
       "      <th>5764</th>\n",
       "      <td>ZIMBABWE</td>\n",
       "      <td>161.13</td>\n",
       "      <td>13.59</td>\n",
       "      <td>174.72</td>\n",
       "      <td>147.54</td>\n",
       "      <td>2019</td>\n",
       "      <td>2020</td>\n",
       "    </tr>\n",
       "    <tr>\n",
       "      <th>5765</th>\n",
       "      <td>ZIMBABWE</td>\n",
       "      <td>175.72</td>\n",
       "      <td>5.71</td>\n",
       "      <td>181.42</td>\n",
       "      <td>170.01</td>\n",
       "      <td>2020</td>\n",
       "      <td>2021</td>\n",
       "    </tr>\n",
       "    <tr>\n",
       "      <th>5766</th>\n",
       "      <td>ZIMBABWE</td>\n",
       "      <td>148.89</td>\n",
       "      <td>1.69</td>\n",
       "      <td>150.58</td>\n",
       "      <td>147.2</td>\n",
       "      <td>2021</td>\n",
       "      <td>2022</td>\n",
       "    </tr>\n",
       "  </tbody>\n",
       "</table>\n",
       "<p>5767 rows × 7 columns</p>\n",
       "</div>"
      ],
      "text/plain": [
       "          Country  Export Import Total Trade Trade Balance  Year(start)  \\\n",
       "0     AFGHANISTAN   21.25   10.7       31.95         10.55           97   \n",
       "1     AFGHANISTAN   12.81  28.14       40.95        -15.33           98   \n",
       "2     AFGHANISTAN    33.2  21.06       54.26         12.15           99   \n",
       "3     AFGHANISTAN   25.86  26.59       52.45         -0.73         2000   \n",
       "4     AFGHANISTAN   24.37  17.52       41.89          6.85         2001   \n",
       "...           ...     ...    ...         ...           ...          ...   \n",
       "5762     ZIMBABWE  163.54   62.2      225.74        101.34         2017   \n",
       "5763     ZIMBABWE  181.72   7.79      189.51        173.93         2018   \n",
       "5764     ZIMBABWE  161.13  13.59      174.72        147.54         2019   \n",
       "5765     ZIMBABWE  175.72   5.71      181.42        170.01         2020   \n",
       "5766     ZIMBABWE  148.89   1.69      150.58         147.2         2021   \n",
       "\n",
       "      Year(end)  \n",
       "0            98  \n",
       "1            99  \n",
       "2          2000  \n",
       "3          2001  \n",
       "4          2002  \n",
       "...         ...  \n",
       "5762       2018  \n",
       "5763       2019  \n",
       "5764       2020  \n",
       "5765       2021  \n",
       "5766       2022  \n",
       "\n",
       "[5767 rows x 7 columns]"
      ]
     },
     "execution_count": 13,
     "metadata": {},
     "output_type": "execute_result"
    }
   ],
   "source": [
    "data"
   ]
  },
  {
   "cell_type": "code",
   "execution_count": 14,
   "id": "c5928e23",
   "metadata": {},
   "outputs": [],
   "source": [
    "data['Export'] = data['Export'].replace({',': ''}, regex=True).astype(float)"
   ]
  },
  {
   "cell_type": "code",
   "execution_count": 15,
   "id": "669a43e1",
   "metadata": {},
   "outputs": [
    {
     "data": {
      "text/plain": [
       "0        21.25\n",
       "1        12.81\n",
       "2        33.20\n",
       "3        25.86\n",
       "4        24.37\n",
       "         ...  \n",
       "5762    163.54\n",
       "5763    181.72\n",
       "5764    161.13\n",
       "5765    175.72\n",
       "5766    148.89\n",
       "Name: Export, Length: 5767, dtype: float64"
      ]
     },
     "execution_count": 15,
     "metadata": {},
     "output_type": "execute_result"
    }
   ],
   "source": [
    "data['Export']"
   ]
  },
  {
   "cell_type": "code",
   "execution_count": 16,
   "id": "154ca142",
   "metadata": {},
   "outputs": [],
   "source": [
    "data['Import'] = data['Import'].replace({',': ''}, regex=True).astype(float)"
   ]
  },
  {
   "cell_type": "code",
   "execution_count": 17,
   "id": "bb2ad54f",
   "metadata": {},
   "outputs": [
    {
     "data": {
      "text/plain": [
       "0       10.70\n",
       "1       28.14\n",
       "2       21.06\n",
       "3       26.59\n",
       "4       17.52\n",
       "        ...  \n",
       "5762    62.20\n",
       "5763     7.79\n",
       "5764    13.59\n",
       "5765     5.71\n",
       "5766     1.69\n",
       "Name: Import, Length: 5767, dtype: float64"
      ]
     },
     "execution_count": 17,
     "metadata": {},
     "output_type": "execute_result"
    }
   ],
   "source": [
    "data['Import']"
   ]
  },
  {
   "cell_type": "code",
   "execution_count": 18,
   "id": "0ec4297e",
   "metadata": {},
   "outputs": [],
   "source": [
    "data['Total Trade'] = data['Total Trade'].replace({',': ''}, regex=True).astype(float)"
   ]
  },
  {
   "cell_type": "code",
   "execution_count": 19,
   "id": "416324b1",
   "metadata": {},
   "outputs": [
    {
     "data": {
      "text/plain": [
       "0        31.95\n",
       "1        40.95\n",
       "2        54.26\n",
       "3        52.45\n",
       "4        41.89\n",
       "         ...  \n",
       "5762    225.74\n",
       "5763    189.51\n",
       "5764    174.72\n",
       "5765    181.42\n",
       "5766    150.58\n",
       "Name: Total Trade, Length: 5767, dtype: float64"
      ]
     },
     "execution_count": 19,
     "metadata": {},
     "output_type": "execute_result"
    }
   ],
   "source": [
    "data['Total Trade']"
   ]
  },
  {
   "cell_type": "code",
   "execution_count": 20,
   "id": "8d2ba1e3",
   "metadata": {},
   "outputs": [],
   "source": [
    "data['Trade Balance'] = data['Trade Balance'].replace({',': ''}, regex=True).astype(float)"
   ]
  },
  {
   "cell_type": "code",
   "execution_count": 21,
   "id": "66af2fe6",
   "metadata": {},
   "outputs": [
    {
     "data": {
      "text/plain": [
       "0        10.55\n",
       "1       -15.33\n",
       "2        12.15\n",
       "3        -0.73\n",
       "4         6.85\n",
       "         ...  \n",
       "5762    101.34\n",
       "5763    173.93\n",
       "5764    147.54\n",
       "5765    170.01\n",
       "5766    147.20\n",
       "Name: Trade Balance, Length: 5767, dtype: float64"
      ]
     },
     "execution_count": 21,
     "metadata": {},
     "output_type": "execute_result"
    }
   ],
   "source": [
    "data['Trade Balance']"
   ]
  },
  {
   "cell_type": "code",
   "execution_count": 22,
   "id": "97a18de1",
   "metadata": {},
   "outputs": [
    {
     "data": {
      "text/plain": [
       "0         97\n",
       "1         98\n",
       "2         99\n",
       "3       2000\n",
       "4       2001\n",
       "        ... \n",
       "5762    2017\n",
       "5763    2018\n",
       "5764    2019\n",
       "5765    2020\n",
       "5766    2021\n",
       "Name: Year(start), Length: 5767, dtype: int64"
      ]
     },
     "execution_count": 22,
     "metadata": {},
     "output_type": "execute_result"
    }
   ],
   "source": [
    "data['Year(start)']"
   ]
  },
  {
   "cell_type": "code",
   "execution_count": 23,
   "id": "c049055b",
   "metadata": {},
   "outputs": [
    {
     "data": {
      "text/plain": [
       "0         98\n",
       "1         99\n",
       "2       2000\n",
       "3       2001\n",
       "4       2002\n",
       "        ... \n",
       "5762    2018\n",
       "5763    2019\n",
       "5764    2020\n",
       "5765    2021\n",
       "5766    2022\n",
       "Name: Year(end), Length: 5767, dtype: int64"
      ]
     },
     "execution_count": 23,
     "metadata": {},
     "output_type": "execute_result"
    }
   ],
   "source": [
    "data['Year(end)']"
   ]
  },
  {
   "cell_type": "code",
   "execution_count": 24,
   "id": "ddacbd83",
   "metadata": {},
   "outputs": [],
   "source": [
    "data['Year(start)'] = data['Year(start)'].astype(str)"
   ]
  },
  {
   "cell_type": "code",
   "execution_count": 25,
   "id": "e4261458",
   "metadata": {},
   "outputs": [
    {
     "data": {
      "text/plain": [
       "0       1997\n",
       "1       1998\n",
       "2       1999\n",
       "3       2000\n",
       "4       2001\n",
       "        ... \n",
       "5762    2017\n",
       "5763    2018\n",
       "5764    2019\n",
       "5765    2020\n",
       "5766    2021\n",
       "Name: Year(start), Length: 5767, dtype: object"
      ]
     },
     "execution_count": 25,
     "metadata": {},
     "output_type": "execute_result"
    }
   ],
   "source": [
    "data['Year(start)']=data['Year(start)'].apply(lambda x: '19'+x if len(x) != 4 else x)\n",
    "data['Year(start)']"
   ]
  },
  {
   "cell_type": "code",
   "execution_count": 26,
   "id": "72c6d0ff",
   "metadata": {},
   "outputs": [
    {
     "data": {
      "text/plain": [
       "0       1997\n",
       "1       1998\n",
       "2       1999\n",
       "3       2000\n",
       "4       2001\n",
       "        ... \n",
       "5762    2017\n",
       "5763    2018\n",
       "5764    2019\n",
       "5765    2020\n",
       "5766    2021\n",
       "Name: Year(start), Length: 5767, dtype: int32"
      ]
     },
     "execution_count": 26,
     "metadata": {},
     "output_type": "execute_result"
    }
   ],
   "source": [
    "data['Year(start)'] = data['Year(start)'].astype(int)\n",
    "data['Year(start)'] "
   ]
  },
  {
   "cell_type": "code",
   "execution_count": 27,
   "id": "f7c54b25",
   "metadata": {},
   "outputs": [],
   "source": [
    "data['Year(end)'] = data['Year(end)'].astype(str)"
   ]
  },
  {
   "cell_type": "code",
   "execution_count": 28,
   "id": "0ab1f11f",
   "metadata": {},
   "outputs": [
    {
     "data": {
      "text/plain": [
       "0       1998\n",
       "1       1999\n",
       "2       2000\n",
       "3       2001\n",
       "4       2002\n",
       "        ... \n",
       "5762    2018\n",
       "5763    2019\n",
       "5764    2020\n",
       "5765    2021\n",
       "5766    2022\n",
       "Name: Year(end), Length: 5767, dtype: object"
      ]
     },
     "execution_count": 28,
     "metadata": {},
     "output_type": "execute_result"
    }
   ],
   "source": [
    "data['Year(end)']=data['Year(end)'].apply(lambda x: '19'+x if len(x) != 4 else x)\n",
    "data['Year(end)']"
   ]
  },
  {
   "cell_type": "code",
   "execution_count": 29,
   "id": "88f0bfcd",
   "metadata": {},
   "outputs": [
    {
     "data": {
      "text/plain": [
       "0       1998\n",
       "1       1999\n",
       "2       2000\n",
       "3       2001\n",
       "4       2002\n",
       "        ... \n",
       "5762    2018\n",
       "5763    2019\n",
       "5764    2020\n",
       "5765    2021\n",
       "5766    2022\n",
       "Name: Year(end), Length: 5767, dtype: int32"
      ]
     },
     "execution_count": 29,
     "metadata": {},
     "output_type": "execute_result"
    }
   ],
   "source": [
    "data['Year(end)'] = data['Year(end)'].astype(int)\n",
    "data['Year(end)']"
   ]
  },
  {
   "cell_type": "markdown",
   "id": "d3b5b4a3",
   "metadata": {},
   "source": [
    "# Handling Missing Values"
   ]
  },
  {
   "cell_type": "code",
   "execution_count": 30,
   "id": "19b90040",
   "metadata": {},
   "outputs": [
    {
     "data": {
      "text/plain": [
       "Country            0\n",
       "Export             8\n",
       "Import           532\n",
       "Total Trade      566\n",
       "Trade Balance    566\n",
       "Year(start)        0\n",
       "Year(end)          0\n",
       "dtype: int64"
      ]
     },
     "execution_count": 30,
     "metadata": {},
     "output_type": "execute_result"
    }
   ],
   "source": [
    "data.isnull().sum()"
   ]
  },
  {
   "cell_type": "markdown",
   "id": "96fff79d",
   "metadata": {},
   "source": [
    "We can take average of the exprot,import,total trade, tradebalance to fill the missing values but first count values if it comes under the 35% of missing values to treat the column.\n",
    "If missing values is above 35% then, we can drop that column as the higher than 35% missing values will corrupt the data. "
   ]
  },
  {
   "cell_type": "code",
   "execution_count": 31,
   "id": "63aafcfb",
   "metadata": {},
   "outputs": [
    {
     "name": "stdout",
     "output_type": "stream",
     "text": [
      "Export missing value in % : 0.1387203051846714\n",
      "Import missing value in % : 9.224900294780648\n",
      "Total Trade missing value  in % : 9.814461591815501\n",
      "Trade Balance missing value in % : 9.814461591815501\n"
     ]
    }
   ],
   "source": [
    "print(\"Export missing value in % :\" ,(8/5767)*100)\n",
    "print(\"Import missing value in % :\",(532/5767)*100)\n",
    "print(\"Total Trade missing value  in % :\",(566/5767)*100)\n",
    "print(\"Trade Balance missing value in % :\",(566/5767)*100)"
   ]
  },
  {
   "cell_type": "markdown",
   "id": "7a90f759",
   "metadata": {},
   "source": [
    "All the above missing values are far less than 35%  of total values counts. Hece, we can treat missing values. "
   ]
  },
  {
   "cell_type": "markdown",
   "id": "d0577f77",
   "metadata": {},
   "source": [
    "# Treating export missing values\n"
   ]
  },
  {
   "cell_type": "code",
   "execution_count": 32,
   "id": "2622182b",
   "metadata": {},
   "outputs": [],
   "source": [
    "data['Export']=data['Export'].fillna(data['Export'].mean())"
   ]
  },
  {
   "cell_type": "code",
   "execution_count": 33,
   "id": "a042f1bf",
   "metadata": {},
   "outputs": [
    {
     "data": {
      "text/plain": [
       "Country            0\n",
       "Export             0\n",
       "Import           532\n",
       "Total Trade      566\n",
       "Trade Balance    566\n",
       "Year(start)        0\n",
       "Year(end)          0\n",
       "dtype: int64"
      ]
     },
     "execution_count": 33,
     "metadata": {},
     "output_type": "execute_result"
    }
   ],
   "source": [
    "data.isnull().sum()"
   ]
  },
  {
   "cell_type": "code",
   "execution_count": 34,
   "id": "10d553a4",
   "metadata": {},
   "outputs": [],
   "source": [
    "data['Import']=data['Import'].fillna(data['Import'].mean())"
   ]
  },
  {
   "cell_type": "code",
   "execution_count": 35,
   "id": "965afbe3",
   "metadata": {},
   "outputs": [
    {
     "data": {
      "text/plain": [
       "Country            0\n",
       "Export             0\n",
       "Import             0\n",
       "Total Trade      566\n",
       "Trade Balance    566\n",
       "Year(start)        0\n",
       "Year(end)          0\n",
       "dtype: int64"
      ]
     },
     "execution_count": 35,
     "metadata": {},
     "output_type": "execute_result"
    }
   ],
   "source": [
    "data.isnull().sum()"
   ]
  },
  {
   "cell_type": "code",
   "execution_count": 36,
   "id": "06a345aa",
   "metadata": {},
   "outputs": [],
   "source": [
    "data['Total Trade']=data['Total Trade'].fillna(data['Total Trade'].mean())"
   ]
  },
  {
   "cell_type": "code",
   "execution_count": 37,
   "id": "a83ec8e9",
   "metadata": {},
   "outputs": [
    {
     "data": {
      "text/plain": [
       "Country            0\n",
       "Export             0\n",
       "Import             0\n",
       "Total Trade        0\n",
       "Trade Balance    566\n",
       "Year(start)        0\n",
       "Year(end)          0\n",
       "dtype: int64"
      ]
     },
     "execution_count": 37,
     "metadata": {},
     "output_type": "execute_result"
    }
   ],
   "source": [
    "data.isnull().sum()"
   ]
  },
  {
   "cell_type": "code",
   "execution_count": 38,
   "id": "4866978d",
   "metadata": {},
   "outputs": [],
   "source": [
    "data['Trade Balance']=data['Trade Balance'].fillna(data['Trade Balance'].mean())"
   ]
  },
  {
   "cell_type": "code",
   "execution_count": 39,
   "id": "0579fdba",
   "metadata": {},
   "outputs": [
    {
     "data": {
      "text/plain": [
       "Country          0\n",
       "Export           0\n",
       "Import           0\n",
       "Total Trade      0\n",
       "Trade Balance    0\n",
       "Year(start)      0\n",
       "Year(end)        0\n",
       "dtype: int64"
      ]
     },
     "execution_count": 39,
     "metadata": {},
     "output_type": "execute_result"
    }
   ],
   "source": [
    "data.isnull().sum()"
   ]
  },
  {
   "cell_type": "markdown",
   "id": "5cab46e2",
   "metadata": {},
   "source": [
    "# India-China Export and Import "
   ]
  },
  {
   "cell_type": "code",
   "execution_count": 40,
   "id": "91669bb7",
   "metadata": {},
   "outputs": [
    {
     "data": {
      "text/html": [
       "<div>\n",
       "<style scoped>\n",
       "    .dataframe tbody tr th:only-of-type {\n",
       "        vertical-align: middle;\n",
       "    }\n",
       "\n",
       "    .dataframe tbody tr th {\n",
       "        vertical-align: top;\n",
       "    }\n",
       "\n",
       "    .dataframe thead th {\n",
       "        text-align: right;\n",
       "    }\n",
       "</style>\n",
       "<table border=\"1\" class=\"dataframe\">\n",
       "  <thead>\n",
       "    <tr style=\"text-align: right;\">\n",
       "      <th></th>\n",
       "      <th>Export</th>\n",
       "      <th>Import</th>\n",
       "      <th>Total Trade</th>\n",
       "      <th>Trade Balance</th>\n",
       "      <th>Year(start)</th>\n",
       "      <th>Year(end)</th>\n",
       "    </tr>\n",
       "  </thead>\n",
       "  <tbody>\n",
       "    <tr>\n",
       "      <th>count</th>\n",
       "      <td>5767.000000</td>\n",
       "      <td>5767.000000</td>\n",
       "      <td>5767.000000</td>\n",
       "      <td>5767.000000</td>\n",
       "      <td>5767.000000</td>\n",
       "      <td>5767.000000</td>\n",
       "    </tr>\n",
       "    <tr>\n",
       "      <th>mean</th>\n",
       "      <td>818.347338</td>\n",
       "      <td>1326.562976</td>\n",
       "      <td>2240.639304</td>\n",
       "      <td>-429.802859</td>\n",
       "      <td>2009.108202</td>\n",
       "      <td>2010.108202</td>\n",
       "    </tr>\n",
       "    <tr>\n",
       "      <th>std</th>\n",
       "      <td>3041.604269</td>\n",
       "      <td>4439.656617</td>\n",
       "      <td>6840.839181</td>\n",
       "      <td>3311.145597</td>\n",
       "      <td>7.180789</td>\n",
       "      <td>7.180789</td>\n",
       "    </tr>\n",
       "    <tr>\n",
       "      <th>min</th>\n",
       "      <td>0.000000</td>\n",
       "      <td>0.000000</td>\n",
       "      <td>0.000000</td>\n",
       "      <td>-63047.160000</td>\n",
       "      <td>1997.000000</td>\n",
       "      <td>1998.000000</td>\n",
       "    </tr>\n",
       "    <tr>\n",
       "      <th>25%</th>\n",
       "      <td>3.155000</td>\n",
       "      <td>1.700000</td>\n",
       "      <td>17.995000</td>\n",
       "      <td>-226.510000</td>\n",
       "      <td>2003.000000</td>\n",
       "      <td>2004.000000</td>\n",
       "    </tr>\n",
       "    <tr>\n",
       "      <th>50%</th>\n",
       "      <td>46.690000</td>\n",
       "      <td>46.540000</td>\n",
       "      <td>194.860000</td>\n",
       "      <td>1.230000</td>\n",
       "      <td>2009.000000</td>\n",
       "      <td>2010.000000</td>\n",
       "    </tr>\n",
       "    <tr>\n",
       "      <th>75%</th>\n",
       "      <td>365.130000</td>\n",
       "      <td>972.735000</td>\n",
       "      <td>2211.875000</td>\n",
       "      <td>51.505000</td>\n",
       "      <td>2015.000000</td>\n",
       "      <td>2016.000000</td>\n",
       "    </tr>\n",
       "    <tr>\n",
       "      <th>max</th>\n",
       "      <td>55786.380000</td>\n",
       "      <td>76380.700000</td>\n",
       "      <td>89714.230000</td>\n",
       "      <td>24442.380000</td>\n",
       "      <td>2021.000000</td>\n",
       "      <td>2022.000000</td>\n",
       "    </tr>\n",
       "  </tbody>\n",
       "</table>\n",
       "</div>"
      ],
      "text/plain": [
       "             Export        Import   Total Trade  Trade Balance  Year(start)  \\\n",
       "count   5767.000000   5767.000000   5767.000000    5767.000000  5767.000000   \n",
       "mean     818.347338   1326.562976   2240.639304    -429.802859  2009.108202   \n",
       "std     3041.604269   4439.656617   6840.839181    3311.145597     7.180789   \n",
       "min        0.000000      0.000000      0.000000  -63047.160000  1997.000000   \n",
       "25%        3.155000      1.700000     17.995000    -226.510000  2003.000000   \n",
       "50%       46.690000     46.540000    194.860000       1.230000  2009.000000   \n",
       "75%      365.130000    972.735000   2211.875000      51.505000  2015.000000   \n",
       "max    55786.380000  76380.700000  89714.230000   24442.380000  2021.000000   \n",
       "\n",
       "         Year(end)  \n",
       "count  5767.000000  \n",
       "mean   2010.108202  \n",
       "std       7.180789  \n",
       "min    1998.000000  \n",
       "25%    2004.000000  \n",
       "50%    2010.000000  \n",
       "75%    2016.000000  \n",
       "max    2022.000000  "
      ]
     },
     "execution_count": 40,
     "metadata": {},
     "output_type": "execute_result"
    }
   ],
   "source": [
    "data.describe()"
   ]
  },
  {
   "cell_type": "code",
   "execution_count": 41,
   "id": "11531d9c",
   "metadata": {},
   "outputs": [],
   "source": [
    "y1=data[data.Country.str.contains(\"CHINA\")].Export"
   ]
  },
  {
   "cell_type": "code",
   "execution_count": 42,
   "id": "d95cc0a1",
   "metadata": {},
   "outputs": [],
   "source": [
    "y2=data[data.Country.str.contains(\"CHINA\")].Import"
   ]
  },
  {
   "cell_type": "code",
   "execution_count": 43,
   "id": "56883d29",
   "metadata": {},
   "outputs": [],
   "source": [
    "x1=str(data['Year(start)'])\n",
    "x2=str(data['Year(end)'])"
   ]
  },
  {
   "cell_type": "code",
   "execution_count": 44,
   "id": "69cbfee4",
   "metadata": {},
   "outputs": [],
   "source": [
    "data['Year_Range'] = data['Year(start)'].map(str) + '-' + data['Year(end)'].map(str)"
   ]
  },
  {
   "cell_type": "code",
   "execution_count": 45,
   "id": "c76ad870",
   "metadata": {},
   "outputs": [
    {
     "data": {
      "text/plain": [
       "0       1997-1998\n",
       "1       1998-1999\n",
       "2       1999-2000\n",
       "3       2000-2001\n",
       "4       2001-2002\n",
       "          ...    \n",
       "5762    2017-2018\n",
       "5763    2018-2019\n",
       "5764    2019-2020\n",
       "5765    2020-2021\n",
       "5766    2021-2022\n",
       "Name: Year_Range, Length: 5767, dtype: object"
      ]
     },
     "execution_count": 45,
     "metadata": {},
     "output_type": "execute_result"
    }
   ],
   "source": [
    "x=data['Year_Range']\n",
    "x"
   ]
  },
  {
   "cell_type": "code",
   "execution_count": 50,
   "id": "e89cb163",
   "metadata": {},
   "outputs": [
    {
     "name": "stderr",
     "output_type": "stream",
     "text": [
      "C:\\Users\\sh\\Anaconda3\\lib\\site-packages\\seaborn\\_decorators.py:36: FutureWarning: Pass the following variables as keyword args: x, y. From version 0.12, the only valid positional argument will be `data`, and passing other arguments without an explicit keyword will result in an error or misinterpretation.\n",
      "  warnings.warn(\n",
      "C:\\Users\\sh\\Anaconda3\\lib\\site-packages\\seaborn\\_decorators.py:36: FutureWarning: Pass the following variables as keyword args: x, y. From version 0.12, the only valid positional argument will be `data`, and passing other arguments without an explicit keyword will result in an error or misinterpretation.\n",
      "  warnings.warn(\n"
     ]
    },
    {
     "data": {
      "text/plain": [
       "<matplotlib.legend.Legend at 0xf6eee453a0>"
      ]
     },
     "execution_count": 50,
     "metadata": {},
     "output_type": "execute_result"
    },
    {
     "data": {
      "image/png": "[encoded data removed]",
      "text/plain": [
       "<Figure size 432x288 with 1 Axes>"
      ]
     },
     "metadata": {
      "needs_background": "light"
     },
     "output_type": "display_data"
    }
   ],
   "source": [
    "sns.lineplot(x, y2, data=new_data, color = 'g', markers=[\"o\", \"o\"]);\n",
    "sns.lineplot(x, y1, data=new_data, color  = 'c');\n",
    "plt.title('TOTAL IMPORTS AND EXPORTS - (USD MILLIONS)', size = 15);\n",
    "plt.xticks(rotation=90);\n",
    "plt.legend(['Import', 'Export'])"
   ]
  },
  {
   "cell_type": "code",
   "execution_count": 51,
   "id": "a10138d0",
   "metadata": {},
   "outputs": [
    {
     "data": {
      "text/plain": [
       "76380.7"
      ]
     },
     "execution_count": 51,
     "metadata": {},
     "output_type": "execute_result"
    }
   ],
   "source": [
    "data[(data.Country.str.contains(\"CHINA\"))].Import.max()"
   ]
  },
  {
   "cell_type": "code",
   "execution_count": 49,
   "id": "c8aae281",
   "metadata": {},
   "outputs": [
    {
     "data": {
      "text/html": [
       "<div>\n",
       "<style scoped>\n",
       "    .dataframe tbody tr th:only-of-type {\n",
       "        vertical-align: middle;\n",
       "    }\n",
       "\n",
       "    .dataframe tbody tr th {\n",
       "        vertical-align: top;\n",
       "    }\n",
       "\n",
       "    .dataframe thead th {\n",
       "        text-align: right;\n",
       "    }\n",
       "</style>\n",
       "<table border=\"1\" class=\"dataframe\">\n",
       "  <thead>\n",
       "    <tr style=\"text-align: right;\">\n",
       "      <th></th>\n",
       "      <th>Country</th>\n",
       "      <th>Export</th>\n",
       "      <th>Import</th>\n",
       "      <th>Total Trade</th>\n",
       "      <th>Trade Balance</th>\n",
       "      <th>Year(start)</th>\n",
       "      <th>Year(end)</th>\n",
       "      <th>Year_Range</th>\n",
       "    </tr>\n",
       "  </thead>\n",
       "  <tbody>\n",
       "    <tr>\n",
       "      <th>1061</th>\n",
       "      <td>CHINA P RP</td>\n",
       "      <td>717.95</td>\n",
       "      <td>1112.05</td>\n",
       "      <td>1830.00</td>\n",
       "      <td>-394.11</td>\n",
       "      <td>1997</td>\n",
       "      <td>1998</td>\n",
       "      <td>1997-1998</td>\n",
       "    </tr>\n",
       "    <tr>\n",
       "      <th>1062</th>\n",
       "      <td>CHINA P RP</td>\n",
       "      <td>427.16</td>\n",
       "      <td>1096.71</td>\n",
       "      <td>1523.87</td>\n",
       "      <td>-669.55</td>\n",
       "      <td>1998</td>\n",
       "      <td>1999</td>\n",
       "      <td>1998-1999</td>\n",
       "    </tr>\n",
       "    <tr>\n",
       "      <th>1063</th>\n",
       "      <td>CHINA P RP</td>\n",
       "      <td>539.04</td>\n",
       "      <td>1282.89</td>\n",
       "      <td>1821.93</td>\n",
       "      <td>-743.86</td>\n",
       "      <td>1999</td>\n",
       "      <td>2000</td>\n",
       "      <td>1999-2000</td>\n",
       "    </tr>\n",
       "    <tr>\n",
       "      <th>1064</th>\n",
       "      <td>CHINA P RP</td>\n",
       "      <td>831.30</td>\n",
       "      <td>1502.20</td>\n",
       "      <td>2333.50</td>\n",
       "      <td>-670.89</td>\n",
       "      <td>2000</td>\n",
       "      <td>2001</td>\n",
       "      <td>2000-2001</td>\n",
       "    </tr>\n",
       "    <tr>\n",
       "      <th>1065</th>\n",
       "      <td>CHINA P RP</td>\n",
       "      <td>951.95</td>\n",
       "      <td>2036.39</td>\n",
       "      <td>2988.34</td>\n",
       "      <td>-1084.44</td>\n",
       "      <td>2001</td>\n",
       "      <td>2002</td>\n",
       "      <td>2001-2002</td>\n",
       "    </tr>\n",
       "    <tr>\n",
       "      <th>1066</th>\n",
       "      <td>CHINA P RP</td>\n",
       "      <td>1975.48</td>\n",
       "      <td>2792.04</td>\n",
       "      <td>4767.52</td>\n",
       "      <td>-816.56</td>\n",
       "      <td>2002</td>\n",
       "      <td>2003</td>\n",
       "      <td>2002-2003</td>\n",
       "    </tr>\n",
       "    <tr>\n",
       "      <th>1067</th>\n",
       "      <td>CHINA P RP</td>\n",
       "      <td>2955.08</td>\n",
       "      <td>4053.21</td>\n",
       "      <td>7008.29</td>\n",
       "      <td>-1098.13</td>\n",
       "      <td>2003</td>\n",
       "      <td>2004</td>\n",
       "      <td>2003-2004</td>\n",
       "    </tr>\n",
       "    <tr>\n",
       "      <th>1068</th>\n",
       "      <td>CHINA P RP</td>\n",
       "      <td>5615.88</td>\n",
       "      <td>7097.98</td>\n",
       "      <td>12713.86</td>\n",
       "      <td>-1482.11</td>\n",
       "      <td>2004</td>\n",
       "      <td>2005</td>\n",
       "      <td>2004-2005</td>\n",
       "    </tr>\n",
       "    <tr>\n",
       "      <th>1069</th>\n",
       "      <td>CHINA P RP</td>\n",
       "      <td>6759.10</td>\n",
       "      <td>10868.05</td>\n",
       "      <td>17627.15</td>\n",
       "      <td>-4108.95</td>\n",
       "      <td>2005</td>\n",
       "      <td>2006</td>\n",
       "      <td>2005-2006</td>\n",
       "    </tr>\n",
       "    <tr>\n",
       "      <th>1070</th>\n",
       "      <td>CHINA P RP</td>\n",
       "      <td>8321.86</td>\n",
       "      <td>17475.03</td>\n",
       "      <td>25796.89</td>\n",
       "      <td>-9153.18</td>\n",
       "      <td>2006</td>\n",
       "      <td>2007</td>\n",
       "      <td>2006-2007</td>\n",
       "    </tr>\n",
       "    <tr>\n",
       "      <th>1071</th>\n",
       "      <td>CHINA P RP</td>\n",
       "      <td>10871.34</td>\n",
       "      <td>27146.41</td>\n",
       "      <td>38017.74</td>\n",
       "      <td>-16275.07</td>\n",
       "      <td>2007</td>\n",
       "      <td>2008</td>\n",
       "      <td>2007-2008</td>\n",
       "    </tr>\n",
       "    <tr>\n",
       "      <th>1072</th>\n",
       "      <td>CHINA P RP</td>\n",
       "      <td>9353.50</td>\n",
       "      <td>32497.02</td>\n",
       "      <td>41850.52</td>\n",
       "      <td>-23143.52</td>\n",
       "      <td>2008</td>\n",
       "      <td>2009</td>\n",
       "      <td>2008-2009</td>\n",
       "    </tr>\n",
       "    <tr>\n",
       "      <th>1073</th>\n",
       "      <td>CHINA P RP</td>\n",
       "      <td>11617.88</td>\n",
       "      <td>30824.02</td>\n",
       "      <td>42441.90</td>\n",
       "      <td>-19206.14</td>\n",
       "      <td>2009</td>\n",
       "      <td>2010</td>\n",
       "      <td>2009-2010</td>\n",
       "    </tr>\n",
       "    <tr>\n",
       "      <th>1074</th>\n",
       "      <td>CHINA P RP</td>\n",
       "      <td>14168.86</td>\n",
       "      <td>43479.76</td>\n",
       "      <td>57648.62</td>\n",
       "      <td>-29310.90</td>\n",
       "      <td>2010</td>\n",
       "      <td>2011</td>\n",
       "      <td>2010-2011</td>\n",
       "    </tr>\n",
       "    <tr>\n",
       "      <th>1075</th>\n",
       "      <td>CHINA P RP</td>\n",
       "      <td>18076.55</td>\n",
       "      <td>55313.58</td>\n",
       "      <td>73390.13</td>\n",
       "      <td>-37237.02</td>\n",
       "      <td>2011</td>\n",
       "      <td>2012</td>\n",
       "      <td>2011-2012</td>\n",
       "    </tr>\n",
       "    <tr>\n",
       "      <th>1076</th>\n",
       "      <td>CHINA P RP</td>\n",
       "      <td>13534.88</td>\n",
       "      <td>52248.33</td>\n",
       "      <td>65783.21</td>\n",
       "      <td>-38713.45</td>\n",
       "      <td>2012</td>\n",
       "      <td>2013</td>\n",
       "      <td>2012-2013</td>\n",
       "    </tr>\n",
       "    <tr>\n",
       "      <th>1077</th>\n",
       "      <td>CHINA P RP</td>\n",
       "      <td>14824.36</td>\n",
       "      <td>51034.62</td>\n",
       "      <td>65858.98</td>\n",
       "      <td>-36210.26</td>\n",
       "      <td>2013</td>\n",
       "      <td>2014</td>\n",
       "      <td>2013-2014</td>\n",
       "    </tr>\n",
       "    <tr>\n",
       "      <th>1078</th>\n",
       "      <td>CHINA P RP</td>\n",
       "      <td>11934.25</td>\n",
       "      <td>60413.17</td>\n",
       "      <td>72347.42</td>\n",
       "      <td>-48478.91</td>\n",
       "      <td>2014</td>\n",
       "      <td>2015</td>\n",
       "      <td>2014-2015</td>\n",
       "    </tr>\n",
       "    <tr>\n",
       "      <th>1079</th>\n",
       "      <td>CHINA P RP</td>\n",
       "      <td>9011.36</td>\n",
       "      <td>61707.95</td>\n",
       "      <td>70719.31</td>\n",
       "      <td>-52696.60</td>\n",
       "      <td>2015</td>\n",
       "      <td>2016</td>\n",
       "      <td>2015-2016</td>\n",
       "    </tr>\n",
       "    <tr>\n",
       "      <th>1080</th>\n",
       "      <td>CHINA P RP</td>\n",
       "      <td>10171.89</td>\n",
       "      <td>61283.03</td>\n",
       "      <td>71454.93</td>\n",
       "      <td>-51111.14</td>\n",
       "      <td>2016</td>\n",
       "      <td>2017</td>\n",
       "      <td>2016-2017</td>\n",
       "    </tr>\n",
       "    <tr>\n",
       "      <th>1081</th>\n",
       "      <td>CHINA P RP</td>\n",
       "      <td>13333.53</td>\n",
       "      <td>76380.70</td>\n",
       "      <td>89714.23</td>\n",
       "      <td>-63047.16</td>\n",
       "      <td>2017</td>\n",
       "      <td>2018</td>\n",
       "      <td>2017-2018</td>\n",
       "    </tr>\n",
       "    <tr>\n",
       "      <th>1082</th>\n",
       "      <td>CHINA P RP</td>\n",
       "      <td>16752.20</td>\n",
       "      <td>70319.64</td>\n",
       "      <td>87071.84</td>\n",
       "      <td>-53567.43</td>\n",
       "      <td>2018</td>\n",
       "      <td>2019</td>\n",
       "      <td>2018-2019</td>\n",
       "    </tr>\n",
       "    <tr>\n",
       "      <th>1083</th>\n",
       "      <td>CHINA P RP</td>\n",
       "      <td>16612.75</td>\n",
       "      <td>65260.75</td>\n",
       "      <td>81873.50</td>\n",
       "      <td>-48647.99</td>\n",
       "      <td>2019</td>\n",
       "      <td>2020</td>\n",
       "      <td>2019-2020</td>\n",
       "    </tr>\n",
       "    <tr>\n",
       "      <th>1084</th>\n",
       "      <td>CHINA P RP</td>\n",
       "      <td>21187.15</td>\n",
       "      <td>65212.25</td>\n",
       "      <td>86399.40</td>\n",
       "      <td>-44025.10</td>\n",
       "      <td>2020</td>\n",
       "      <td>2021</td>\n",
       "      <td>2020-2021</td>\n",
       "    </tr>\n",
       "    <tr>\n",
       "      <th>1085</th>\n",
       "      <td>CHINA P RP</td>\n",
       "      <td>17122.55</td>\n",
       "      <td>67629.12</td>\n",
       "      <td>84751.67</td>\n",
       "      <td>-50506.58</td>\n",
       "      <td>2021</td>\n",
       "      <td>2022</td>\n",
       "      <td>2021-2022</td>\n",
       "    </tr>\n",
       "  </tbody>\n",
       "</table>\n",
       "</div>"
      ],
      "text/plain": [
       "         Country    Export    Import  Total Trade  Trade Balance  Year(start)  \\\n",
       "1061  CHINA P RP    717.95   1112.05      1830.00        -394.11         1997   \n",
       "1062  CHINA P RP    427.16   1096.71      1523.87        -669.55         1998   \n",
       "1063  CHINA P RP    539.04   1282.89      1821.93        -743.86         1999   \n",
       "1064  CHINA P RP    831.30   1502.20      2333.50        -670.89         2000   \n",
       "1065  CHINA P RP    951.95   2036.39      2988.34       -1084.44         2001   \n",
       "1066  CHINA P RP   1975.48   2792.04      4767.52        -816.56         2002   \n",
       "1067  CHINA P RP   2955.08   4053.21      7008.29       -1098.13         2003   \n",
       "1068  CHINA P RP   5615.88   7097.98     12713.86       -1482.11         2004   \n",
       "1069  CHINA P RP   6759.10  10868.05     17627.15       -4108.95         2005   \n",
       "1070  CHINA P RP   8321.86  17475.03     25796.89       -9153.18         2006   \n",
       "1071  CHINA P RP  10871.34  27146.41     38017.74      -16275.07         2007   \n",
       "1072  CHINA P RP   9353.50  32497.02     41850.52      -23143.52         2008   \n",
       "1073  CHINA P RP  11617.88  30824.02     42441.90      -19206.14         2009   \n",
       "1074  CHINA P RP  14168.86  43479.76     57648.62      -29310.90         2010   \n",
       "1075  CHINA P RP  18076.55  55313.58     73390.13      -37237.02         2011   \n",
       "1076  CHINA P RP  13534.88  52248.33     65783.21      -38713.45         2012   \n",
       "1077  CHINA P RP  14824.36  51034.62     65858.98      -36210.26         2013   \n",
       "1078  CHINA P RP  11934.25  60413.17     72347.42      -48478.91         2014   \n",
       "1079  CHINA P RP   9011.36  61707.95     70719.31      -52696.60         2015   \n",
       "1080  CHINA P RP  10171.89  61283.03     71454.93      -51111.14         2016   \n",
       "1081  CHINA P RP  13333.53  76380.70     89714.23      -63047.16         2017   \n",
       "1082  CHINA P RP  16752.20  70319.64     87071.84      -53567.43         2018   \n",
       "1083  CHINA P RP  16612.75  65260.75     81873.50      -48647.99         2019   \n",
       "1084  CHINA P RP  21187.15  65212.25     86399.40      -44025.10         2020   \n",
       "1085  CHINA P RP  17122.55  67629.12     84751.67      -50506.58         2021   \n",
       "\n",
       "      Year(end) Year_Range  \n",
       "1061       1998  1997-1998  \n",
       "1062       1999  1998-1999  \n",
       "1063       2000  1999-2000  \n",
       "1064       2001  2000-2001  \n",
       "1065       2002  2001-2002  \n",
       "1066       2003  2002-2003  \n",
       "1067       2004  2003-2004  \n",
       "1068       2005  2004-2005  \n",
       "1069       2006  2005-2006  \n",
       "1070       2007  2006-2007  \n",
       "1071       2008  2007-2008  \n",
       "1072       2009  2008-2009  \n",
       "1073       2010  2009-2010  \n",
       "1074       2011  2010-2011  \n",
       "1075       2012  2011-2012  \n",
       "1076       2013  2012-2013  \n",
       "1077       2014  2013-2014  \n",
       "1078       2015  2014-2015  \n",
       "1079       2016  2015-2016  \n",
       "1080       2017  2016-2017  \n",
       "1081       2018  2017-2018  \n",
       "1082       2019  2018-2019  \n",
       "1083       2020  2019-2020  \n",
       "1084       2021  2020-2021  \n",
       "1085       2022  2021-2022  "
      ]
     },
     "execution_count": 49,
     "metadata": {},
     "output_type": "execute_result"
    }
   ],
   "source": [
    "p=data[(data.Country.str.contains(\"CHINA\"))]\n",
    "new_data=pd.DataFrame(p)\n",
    "new_data"
   ]
  },
  {
   "cell_type": "code",
   "execution_count": 52,
   "id": "5f6c9834",
   "metadata": {},
   "outputs": [
    {
     "data": {
      "text/plain": [
       "Index(['Country', 'Export', 'Import', 'Total Trade', 'Trade Balance',\n",
       "       'Year(start)', 'Year(end)', 'Year_Range'],\n",
       "      dtype='object')"
      ]
     },
     "execution_count": 52,
     "metadata": {},
     "output_type": "execute_result"
    }
   ],
   "source": [
    "new_data.columns"
   ]
  },
  {
   "cell_type": "code",
   "execution_count": 82,
   "id": "2b2372a5",
   "metadata": {},
   "outputs": [
    {
     "data": {
      "text/html": [
       "<div>\n",
       "<style scoped>\n",
       "    .dataframe tbody tr th:only-of-type {\n",
       "        vertical-align: middle;\n",
       "    }\n",
       "\n",
       "    .dataframe tbody tr th {\n",
       "        vertical-align: top;\n",
       "    }\n",
       "\n",
       "    .dataframe thead th {\n",
       "        text-align: right;\n",
       "    }\n",
       "</style>\n",
       "<table border=\"1\" class=\"dataframe\">\n",
       "  <thead>\n",
       "    <tr style=\"text-align: right;\">\n",
       "      <th></th>\n",
       "      <th>Export</th>\n",
       "      <th>Import</th>\n",
       "      <th>Total Trade</th>\n",
       "      <th>Trade Balance</th>\n",
       "      <th>Year(start)</th>\n",
       "      <th>Year(end)</th>\n",
       "    </tr>\n",
       "  </thead>\n",
       "  <tbody>\n",
       "    <tr>\n",
       "      <th>count</th>\n",
       "      <td>25.000000</td>\n",
       "      <td>25.000000</td>\n",
       "      <td>25.000000</td>\n",
       "      <td>25.000000</td>\n",
       "      <td>25.000000</td>\n",
       "      <td>25.000000</td>\n",
       "    </tr>\n",
       "    <tr>\n",
       "      <th>mean</th>\n",
       "      <td>9506.714000</td>\n",
       "      <td>34802.676000</td>\n",
       "      <td>44309.390000</td>\n",
       "      <td>-25295.962000</td>\n",
       "      <td>2009.000000</td>\n",
       "      <td>2010.000000</td>\n",
       "    </tr>\n",
       "    <tr>\n",
       "      <th>std</th>\n",
       "      <td>6380.169179</td>\n",
       "      <td>27638.236628</td>\n",
       "      <td>33444.441297</td>\n",
       "      <td>22150.093128</td>\n",
       "      <td>7.359801</td>\n",
       "      <td>7.359801</td>\n",
       "    </tr>\n",
       "    <tr>\n",
       "      <th>min</th>\n",
       "      <td>427.160000</td>\n",
       "      <td>1096.710000</td>\n",
       "      <td>1523.870000</td>\n",
       "      <td>-63047.160000</td>\n",
       "      <td>1997.000000</td>\n",
       "      <td>1998.000000</td>\n",
       "    </tr>\n",
       "    <tr>\n",
       "      <th>25%</th>\n",
       "      <td>2955.080000</td>\n",
       "      <td>4053.210000</td>\n",
       "      <td>7008.290000</td>\n",
       "      <td>-48478.910000</td>\n",
       "      <td>2003.000000</td>\n",
       "      <td>2004.000000</td>\n",
       "    </tr>\n",
       "    <tr>\n",
       "      <th>50%</th>\n",
       "      <td>10171.890000</td>\n",
       "      <td>32497.020000</td>\n",
       "      <td>42441.900000</td>\n",
       "      <td>-23143.520000</td>\n",
       "      <td>2009.000000</td>\n",
       "      <td>2010.000000</td>\n",
       "    </tr>\n",
       "    <tr>\n",
       "      <th>75%</th>\n",
       "      <td>14168.860000</td>\n",
       "      <td>61283.030000</td>\n",
       "      <td>72347.420000</td>\n",
       "      <td>-1098.130000</td>\n",
       "      <td>2015.000000</td>\n",
       "      <td>2016.000000</td>\n",
       "    </tr>\n",
       "    <tr>\n",
       "      <th>max</th>\n",
       "      <td>21187.150000</td>\n",
       "      <td>76380.700000</td>\n",
       "      <td>89714.230000</td>\n",
       "      <td>-394.110000</td>\n",
       "      <td>2021.000000</td>\n",
       "      <td>2022.000000</td>\n",
       "    </tr>\n",
       "  </tbody>\n",
       "</table>\n",
       "</div>"
      ],
      "text/plain": [
       "             Export        Import   Total Trade  Trade Balance  Year(start)  \\\n",
       "count     25.000000     25.000000     25.000000      25.000000    25.000000   \n",
       "mean    9506.714000  34802.676000  44309.390000  -25295.962000  2009.000000   \n",
       "std     6380.169179  27638.236628  33444.441297   22150.093128     7.359801   \n",
       "min      427.160000   1096.710000   1523.870000  -63047.160000  1997.000000   \n",
       "25%     2955.080000   4053.210000   7008.290000  -48478.910000  2003.000000   \n",
       "50%    10171.890000  32497.020000  42441.900000  -23143.520000  2009.000000   \n",
       "75%    14168.860000  61283.030000  72347.420000   -1098.130000  2015.000000   \n",
       "max    21187.150000  76380.700000  89714.230000    -394.110000  2021.000000   \n",
       "\n",
       "         Year(end)  \n",
       "count    25.000000  \n",
       "mean   2010.000000  \n",
       "std       7.359801  \n",
       "min    1998.000000  \n",
       "25%    2004.000000  \n",
       "50%    2010.000000  \n",
       "75%    2016.000000  \n",
       "max    2022.000000  "
      ]
     },
     "execution_count": 82,
     "metadata": {},
     "output_type": "execute_result"
    }
   ],
   "source": [
    "new_data.describe()"
   ]
  },
  {
   "cell_type": "code",
   "execution_count": 64,
   "id": "816e6e7b",
   "metadata": {},
   "outputs": [
    {
     "data": {
      "image/png": "[encoded data removed]",
      "text/plain": [
       "<Figure size 432x288 with 1 Axes>"
      ]
     },
     "metadata": {
      "needs_background": "light"
     },
     "output_type": "display_data"
    }
   ],
   "source": [
    "sns.barplot(x='Year_Range', y ='Trade Balance', data=new_data,color='red')\n",
    "plt.title('TRADE BALANCE BETWEEN - INDIA AND CHINA - (USD MILLIONS)', size = 15);\n",
    "\n",
    "plt.xticks(rotation=90)\n",
    "plt.show()"
   ]
  },
  {
   "cell_type": "code",
   "execution_count": 77,
   "id": "cc9864ba",
   "metadata": {},
   "outputs": [
    {
     "data": {
      "image/png": "[encoded data removed]",
      "text/plain": [
       "<Figure size 432x288 with 1 Axes>"
      ]
     },
     "metadata": {
      "needs_background": "light"
     },
     "output_type": "display_data"
    }
   ],
   "source": [
    "sns.barplot(x='Year_Range', y ='Total Trade', data=new_data,color='blue')\n",
    "plt.title('TOTAL TRADE BETWEEN - INDIA AND CHINA - (USD MILLIONS)', size = 15);\n",
    "\n",
    "plt.xticks(rotation=90)\n",
    "plt.show()"
   ]
  },
  {
   "cell_type": "code",
   "execution_count": 78,
   "id": "5ab5936e",
   "metadata": {},
   "outputs": [
    {
     "data": {
      "image/png": "[encoded data removed]",
      "text/plain": [
       "<Figure size 432x288 with 1 Axes>"
      ]
     },
     "metadata": {
      "needs_background": "light"
     },
     "output_type": "display_data"
    }
   ],
   "source": [
    "sns.barplot(x='Year_Range', y ='Export', data=new_data,color='green')\n",
    "plt.title('EXPORT BETWEEN - INDIA AND CHINA - (USD MILLIONS)', size = 15);\n",
    "\n",
    "plt.xticks(rotation=90)\n",
    "plt.show()"
   ]
  },
  {
   "cell_type": "code",
   "execution_count": 81,
   "id": "50ae02bc",
   "metadata": {},
   "outputs": [
    {
     "data": {
      "image/png": "[encoded data removed]",
      "text/plain": [
       "<Figure size 432x288 with 1 Axes>"
      ]
     },
     "metadata": {
      "needs_background": "light"
     },
     "output_type": "display_data"
    }
   ],
   "source": [
    "sns.barplot(x='Year_Range', y ='Import', data=new_data,color='orange')\n",
    "plt.title('IMPORT BETWEEN - INDIA AND CHINA - (USD MILLIONS)', size = 15);\n",
    "\n",
    "plt.xticks(rotation=90)\n",
    "plt.show()"
   ]
  },
  {
   "cell_type": "markdown",
   "id": "2e6e006f",
   "metadata": {},
   "source": [
    "From the above analysis, it has been found that, the India-China Trade relationship is gradually increased upto year 2017-2018. It starts declining after year 2017-2018. Along with this, the difference between exports and Import is very high. India import more than it exports in China. Recent's year 2021-2022, the export and import has been increased after certain degree. "
   ]
  },
  {
   "cell_type": "markdown",
   "id": "be8e25dc",
   "metadata": {},
   "source": []
  }
 ],
 "metadata": {
  "kernelspec": {
   "display_name": "Python 3 (ipykernel)",
   "language": "python",
   "name": "python3"
  },
  "language_info": {
   "codemirror_mode": {
    "name": "ipython",
    "version": 3
   },
   "file_extension": ".py",
   "mimetype": "text/x-python",
   "name": "python",
   "nbconvert_exporter": "python",
   "pygments_lexer": "ipython3",
   "version": "3.9.7"
  }
 },
 "nbformat": 4,
 "nbformat_minor": 5
}
